{
 "cells": [
  {
   "cell_type": "code",
   "execution_count": 1,
   "metadata": {},
   "outputs": [],
   "source": [
    "import pandas as pd\n",
    "import numpy as np\n",
    "import matplotlib.pyplot as plt\n",
    "import seaborn as sns\n",
    "\n",
    "%matplotlib inline"
   ]
  },
  {
   "cell_type": "code",
   "execution_count": 2,
   "metadata": {},
   "outputs": [],
   "source": [
    "import warnings\n",
    "warnings.filterwarnings('ignore')"
   ]
  },
  {
   "cell_type": "code",
   "execution_count": 3,
   "metadata": {},
   "outputs": [],
   "source": [
    "from sklearn import set_config\n",
    "set_config(print_changed_only=False)"
   ]
  },
  {
   "cell_type": "markdown",
   "metadata": {},
   "source": [
    "# Kickstarter Project #"
   ]
  },
  {
   "cell_type": "markdown",
   "metadata": {},
   "source": [
    "* Kickstarter adalah sebuah perusahaan fintech yang bergerak pada bidang reward crowdfunding. Kickstarter memberi kesempatan kepada banyak orang untuk memulai proyek yang ingin mereka bangun tetapi terhambat masalah dana. Pendana atau yang dipanggil Backers umumnya akan mendapatkan sebuah reward berupa early access, produk gratis, ataupun reward lainnya."
   ]
  },
  {
   "cell_type": "markdown",
   "metadata": {},
   "source": [
    "# Problem"
   ]
  },
  {
   "cell_type": "markdown",
   "metadata": {},
   "source": [
    "* Karena Kickstarter sudah mulai dikenal banyak orang, membuat sangat banyak orang yang ingin proyek mereka akan terdanai sama dengan proyek-proyek yang telah launching berkat kickstarter. Sayangnya, tidak semua terdanai sesuai harapan, yang dikhawatirkan adalah persentase proyek yang berhasil akan terus tergerus oleh proyek yang tidak."
   ]
  },
  {
   "cell_type": "markdown",
   "metadata": {},
   "source": [
    "# Goal"
   ]
  },
  {
   "cell_type": "markdown",
   "metadata": {},
   "source": [
    "* Pada kesempatan kali ini saya akan mencoba untuk menganlisa sebuah data tentang proyek-proyek yang terdaftar di situs Kickstarter. Menganalisa dan mencari tahu apa yang bisa dilakukan untuk menambah persentase keberhasilan dan juga membuat sebuah model prediksi apakah proyek yang akan dipublikasikan akan terdanai atau tidak."
   ]
  },
  {
   "cell_type": "code",
   "execution_count": 4,
   "metadata": {},
   "outputs": [],
   "source": [
    "df1=pd.read_csv('ks-projects-201612.csv', engine='python')\n",
    "df2=pd.read_csv('train.csv')"
   ]
  },
  {
   "cell_type": "code",
   "execution_count": 5,
   "metadata": {},
   "outputs": [
    {
     "data": {
      "text/plain": [
       "Index(['ID ', 'name ', 'category ', 'main_category ', 'currency ', 'deadline ',\n",
       "       'goal ', 'launched ', 'pledged ', 'state ', 'backers ', 'country ',\n",
       "       'usd pledged ', 'Unnamed: 13', 'Unnamed: 14', 'Unnamed: 15',\n",
       "       'Unnamed: 16'],\n",
       "      dtype='object')"
      ]
     },
     "execution_count": 5,
     "metadata": {},
     "output_type": "execute_result"
    }
   ],
   "source": [
    "df1.columns"
   ]
  },
  {
   "cell_type": "code",
   "execution_count": 6,
   "metadata": {},
   "outputs": [],
   "source": [
    "df1= df1.rename(columns={'name ': 'name'})"
   ]
  },
  {
   "cell_type": "code",
   "execution_count": 7,
   "metadata": {},
   "outputs": [
    {
     "data": {
      "text/plain": [
       "(323750, 17)"
      ]
     },
     "execution_count": 7,
     "metadata": {},
     "output_type": "execute_result"
    }
   ],
   "source": [
    "df1.shape"
   ]
  },
  {
   "cell_type": "code",
   "execution_count": 8,
   "metadata": {},
   "outputs": [
    {
     "data": {
      "text/plain": [
       "Index(['project_id', 'name', 'desc', 'goal', 'keywords',\n",
       "       'disable_communication', 'country', 'currency', 'deadline',\n",
       "       'state_changed_at', 'created_at', 'launched_at', 'backers_count',\n",
       "       'final_status'],\n",
       "      dtype='object')"
      ]
     },
     "execution_count": 8,
     "metadata": {},
     "output_type": "execute_result"
    }
   ],
   "source": [
    "df2.columns"
   ]
  },
  {
   "cell_type": "code",
   "execution_count": 9,
   "metadata": {},
   "outputs": [
    {
     "data": {
      "text/plain": [
       "(108129, 14)"
      ]
     },
     "execution_count": 9,
     "metadata": {},
     "output_type": "execute_result"
    }
   ],
   "source": [
    "df2.shape"
   ]
  },
  {
   "cell_type": "code",
   "execution_count": 10,
   "metadata": {},
   "outputs": [],
   "source": [
    "df=pd.merge(df1, df2, on='name')"
   ]
  },
  {
   "cell_type": "markdown",
   "metadata": {},
   "source": [
    "* ['kaggle-Kickstarter']('https://www.kaggle.com/kemical/kickstarter-projects')"
   ]
  },
  {
   "cell_type": "markdown",
   "metadata": {},
   "source": [
    "* ['kaggle-Kickstarter-2']('https://www.kaggle.com/codename007/funding-successful-projects')"
   ]
  },
  {
   "cell_type": "markdown",
   "metadata": {},
   "source": [
    "* I try to joining 2 datasets from 2 different page on Kaggle."
   ]
  },
  {
   "cell_type": "code",
   "execution_count": 11,
   "metadata": {},
   "outputs": [
    {
     "data": {
      "text/html": [
       "<div>\n",
       "<style scoped>\n",
       "    .dataframe tbody tr th:only-of-type {\n",
       "        vertical-align: middle;\n",
       "    }\n",
       "\n",
       "    .dataframe tbody tr th {\n",
       "        vertical-align: top;\n",
       "    }\n",
       "\n",
       "    .dataframe thead th {\n",
       "        text-align: right;\n",
       "    }\n",
       "</style>\n",
       "<table border=\"1\" class=\"dataframe\">\n",
       "  <thead>\n",
       "    <tr style=\"text-align: right;\">\n",
       "      <th></th>\n",
       "      <th>ID</th>\n",
       "      <th>name</th>\n",
       "      <th>category</th>\n",
       "      <th>main_category</th>\n",
       "      <th>currency</th>\n",
       "      <th>deadline</th>\n",
       "      <th>goal</th>\n",
       "      <th>launched</th>\n",
       "      <th>pledged</th>\n",
       "      <th>state</th>\n",
       "      <th>...</th>\n",
       "      <th>keywords</th>\n",
       "      <th>disable_communication</th>\n",
       "      <th>country</th>\n",
       "      <th>currency</th>\n",
       "      <th>deadline</th>\n",
       "      <th>state_changed_at</th>\n",
       "      <th>created_at</th>\n",
       "      <th>launched_at</th>\n",
       "      <th>backers_count</th>\n",
       "      <th>final_status</th>\n",
       "    </tr>\n",
       "  </thead>\n",
       "  <tbody>\n",
       "    <tr>\n",
       "      <th>0</th>\n",
       "      <td>1000004038</td>\n",
       "      <td>Where is Hank?</td>\n",
       "      <td>Narrative Film</td>\n",
       "      <td>Film &amp; Video</td>\n",
       "      <td>USD</td>\n",
       "      <td>2013-02-26 00:20:50</td>\n",
       "      <td>45000</td>\n",
       "      <td>2013-01-12 00:20:50</td>\n",
       "      <td>220</td>\n",
       "      <td>failed</td>\n",
       "      <td>...</td>\n",
       "      <td>where-is-hank</td>\n",
       "      <td>False</td>\n",
       "      <td>US</td>\n",
       "      <td>USD</td>\n",
       "      <td>1361834450</td>\n",
       "      <td>1361834450</td>\n",
       "      <td>1357603284</td>\n",
       "      <td>1357946450</td>\n",
       "      <td>3</td>\n",
       "      <td>0</td>\n",
       "    </tr>\n",
       "    <tr>\n",
       "      <th>1</th>\n",
       "      <td>100004721</td>\n",
       "      <td>Of Jesus and Madmen</td>\n",
       "      <td>Nonfiction</td>\n",
       "      <td>Publishing</td>\n",
       "      <td>CAD</td>\n",
       "      <td>2013-10-09 18:19:37</td>\n",
       "      <td>2500</td>\n",
       "      <td>2013-09-09 18:19:37</td>\n",
       "      <td>0</td>\n",
       "      <td>failed</td>\n",
       "      <td>...</td>\n",
       "      <td>of-jesus-and-madmen</td>\n",
       "      <td>False</td>\n",
       "      <td>CA</td>\n",
       "      <td>CAD</td>\n",
       "      <td>1381335577</td>\n",
       "      <td>1381335577</td>\n",
       "      <td>1378130153</td>\n",
       "      <td>1378743577</td>\n",
       "      <td>0</td>\n",
       "      <td>0</td>\n",
       "    </tr>\n",
       "    <tr>\n",
       "      <th>2</th>\n",
       "      <td>1000064918</td>\n",
       "      <td>The Beard</td>\n",
       "      <td>Comic Books</td>\n",
       "      <td>Comics</td>\n",
       "      <td>USD</td>\n",
       "      <td>2014-11-08 22:27:52</td>\n",
       "      <td>1500</td>\n",
       "      <td>2014-10-09 22:27:52</td>\n",
       "      <td>395</td>\n",
       "      <td>failed</td>\n",
       "      <td>...</td>\n",
       "      <td>the-beard</td>\n",
       "      <td>False</td>\n",
       "      <td>US</td>\n",
       "      <td>USD</td>\n",
       "      <td>1415482072</td>\n",
       "      <td>1415482072</td>\n",
       "      <td>1412172842</td>\n",
       "      <td>1412886472</td>\n",
       "      <td>16</td>\n",
       "      <td>0</td>\n",
       "    </tr>\n",
       "    <tr>\n",
       "      <th>3</th>\n",
       "      <td>1000068480</td>\n",
       "      <td>Notes From London: Above &amp; Below</td>\n",
       "      <td>Art Books</td>\n",
       "      <td>Publishing</td>\n",
       "      <td>USD</td>\n",
       "      <td>2015-05-10 21:20:54</td>\n",
       "      <td>3000</td>\n",
       "      <td>2015-04-10 21:20:54</td>\n",
       "      <td>789</td>\n",
       "      <td>failed</td>\n",
       "      <td>...</td>\n",
       "      <td>notes-from-london-above-and-below</td>\n",
       "      <td>False</td>\n",
       "      <td>US</td>\n",
       "      <td>USD</td>\n",
       "      <td>1431285654</td>\n",
       "      <td>1431285655</td>\n",
       "      <td>1428526605</td>\n",
       "      <td>1428693654</td>\n",
       "      <td>20</td>\n",
       "      <td>0</td>\n",
       "    </tr>\n",
       "    <tr>\n",
       "      <th>4</th>\n",
       "      <td>1000087442</td>\n",
       "      <td>Mountain brew: A quest for alcohol sustainability</td>\n",
       "      <td>Drinks</td>\n",
       "      <td>Food</td>\n",
       "      <td>NOK</td>\n",
       "      <td>2015-02-25 19:17:33</td>\n",
       "      <td>500</td>\n",
       "      <td>2015-01-26 19:17:33</td>\n",
       "      <td>48</td>\n",
       "      <td>failed</td>\n",
       "      <td>...</td>\n",
       "      <td>mountain-brew-a-quest-for-alcohol-sustainability</td>\n",
       "      <td>False</td>\n",
       "      <td>NO</td>\n",
       "      <td>NOK</td>\n",
       "      <td>1424888253</td>\n",
       "      <td>1424888253</td>\n",
       "      <td>1422045831</td>\n",
       "      <td>1422296253</td>\n",
       "      <td>3</td>\n",
       "      <td>0</td>\n",
       "    </tr>\n",
       "  </tbody>\n",
       "</table>\n",
       "<p>5 rows × 30 columns</p>\n",
       "</div>"
      ],
      "text/plain": [
       "          ID                                                name  \\\n",
       "0  1000004038                                     Where is Hank?   \n",
       "1   100004721                                Of Jesus and Madmen   \n",
       "2  1000064918                                          The Beard   \n",
       "3  1000068480                   Notes From London: Above & Below   \n",
       "4  1000087442  Mountain brew: A quest for alcohol sustainability   \n",
       "\n",
       "        category  main_category  currency             deadline   goal   \\\n",
       "0  Narrative Film   Film & Video       USD  2013-02-26 00:20:50  45000   \n",
       "1      Nonfiction     Publishing       CAD  2013-10-09 18:19:37   2500   \n",
       "2     Comic Books         Comics       USD  2014-11-08 22:27:52   1500   \n",
       "3       Art Books     Publishing       USD  2015-05-10 21:20:54   3000   \n",
       "4          Drinks           Food       NOK  2015-02-25 19:17:33    500   \n",
       "\n",
       "             launched  pledged   state   ...  \\\n",
       "0  2013-01-12 00:20:50      220  failed  ...   \n",
       "1  2013-09-09 18:19:37        0  failed  ...   \n",
       "2  2014-10-09 22:27:52      395  failed  ...   \n",
       "3  2015-04-10 21:20:54      789  failed  ...   \n",
       "4  2015-01-26 19:17:33       48  failed  ...   \n",
       "\n",
       "                                           keywords disable_communication  \\\n",
       "0                                     where-is-hank                 False   \n",
       "1                               of-jesus-and-madmen                 False   \n",
       "2                                         the-beard                 False   \n",
       "3                 notes-from-london-above-and-below                 False   \n",
       "4  mountain-brew-a-quest-for-alcohol-sustainability                 False   \n",
       "\n",
       "  country currency    deadline state_changed_at  created_at launched_at  \\\n",
       "0      US      USD  1361834450       1361834450  1357603284  1357946450   \n",
       "1      CA      CAD  1381335577       1381335577  1378130153  1378743577   \n",
       "2      US      USD  1415482072       1415482072  1412172842  1412886472   \n",
       "3      US      USD  1431285654       1431285655  1428526605  1428693654   \n",
       "4      NO      NOK  1424888253       1424888253  1422045831  1422296253   \n",
       "\n",
       "  backers_count  final_status  \n",
       "0             3             0  \n",
       "1             0             0  \n",
       "2            16             0  \n",
       "3            20             0  \n",
       "4             3             0  \n",
       "\n",
       "[5 rows x 30 columns]"
      ]
     },
     "execution_count": 11,
     "metadata": {},
     "output_type": "execute_result"
    }
   ],
   "source": [
    "df.head()"
   ]
  },
  {
   "cell_type": "code",
   "execution_count": 12,
   "metadata": {},
   "outputs": [
    {
     "data": {
      "text/plain": [
       "Index(['ID ', 'name', 'category ', 'main_category ', 'currency ', 'deadline ',\n",
       "       'goal ', 'launched ', 'pledged ', 'state ', 'backers ', 'country ',\n",
       "       'usd pledged ', 'Unnamed: 13', 'Unnamed: 14', 'Unnamed: 15',\n",
       "       'Unnamed: 16', 'project_id', 'desc', 'goal', 'keywords',\n",
       "       'disable_communication', 'country', 'currency', 'deadline',\n",
       "       'state_changed_at', 'created_at', 'launched_at', 'backers_count',\n",
       "       'final_status'],\n",
       "      dtype='object')"
      ]
     },
     "execution_count": 12,
     "metadata": {},
     "output_type": "execute_result"
    }
   ],
   "source": [
    "df.columns"
   ]
  },
  {
   "cell_type": "code",
   "execution_count": 13,
   "metadata": {},
   "outputs": [
    {
     "data": {
      "text/plain": [
       "ID                            0\n",
       "name                         12\n",
       "category                      0\n",
       "main_category                 0\n",
       "currency                      0\n",
       "deadline                      0\n",
       "goal                          0\n",
       "launched                      0\n",
       "pledged                       0\n",
       "state                         0\n",
       "backers                       0\n",
       "country                       0\n",
       "usd pledged                 244\n",
       "Unnamed: 13              102296\n",
       "Unnamed: 14              102302\n",
       "Unnamed: 15              102302\n",
       "Unnamed: 16              102302\n",
       "project_id                    0\n",
       "desc                         38\n",
       "goal                          0\n",
       "keywords                      0\n",
       "disable_communication         0\n",
       "country                       0\n",
       "currency                      0\n",
       "deadline                      0\n",
       "state_changed_at              0\n",
       "created_at                    0\n",
       "launched_at                   0\n",
       "backers_count                 0\n",
       "final_status                  0\n",
       "dtype: int64"
      ]
     },
     "execution_count": 13,
     "metadata": {},
     "output_type": "execute_result"
    }
   ],
   "source": [
    "df.isna().sum()"
   ]
  },
  {
   "cell_type": "code",
   "execution_count": 14,
   "metadata": {},
   "outputs": [
    {
     "data": {
      "text/html": [
       "<div>\n",
       "<style scoped>\n",
       "    .dataframe tbody tr th:only-of-type {\n",
       "        vertical-align: middle;\n",
       "    }\n",
       "\n",
       "    .dataframe tbody tr th {\n",
       "        vertical-align: top;\n",
       "    }\n",
       "\n",
       "    .dataframe thead th {\n",
       "        text-align: right;\n",
       "    }\n",
       "</style>\n",
       "<table border=\"1\" class=\"dataframe\">\n",
       "  <thead>\n",
       "    <tr style=\"text-align: right;\">\n",
       "      <th></th>\n",
       "      <th>ID</th>\n",
       "      <th>Unnamed: 16</th>\n",
       "      <th>goal</th>\n",
       "      <th>disable_communication</th>\n",
       "      <th>deadline</th>\n",
       "      <th>state_changed_at</th>\n",
       "      <th>created_at</th>\n",
       "      <th>launched_at</th>\n",
       "      <th>backers_count</th>\n",
       "      <th>final_status</th>\n",
       "    </tr>\n",
       "  </thead>\n",
       "  <tbody>\n",
       "    <tr>\n",
       "      <th>ID</th>\n",
       "      <td>1.000000</td>\n",
       "      <td>NaN</td>\n",
       "      <td>0.000794</td>\n",
       "      <td>0.002815</td>\n",
       "      <td>-0.002322</td>\n",
       "      <td>-0.002385</td>\n",
       "      <td>-0.003373</td>\n",
       "      <td>-0.002326</td>\n",
       "      <td>0.000466</td>\n",
       "      <td>-0.000643</td>\n",
       "    </tr>\n",
       "    <tr>\n",
       "      <th>Unnamed: 16</th>\n",
       "      <td>NaN</td>\n",
       "      <td>NaN</td>\n",
       "      <td>NaN</td>\n",
       "      <td>NaN</td>\n",
       "      <td>NaN</td>\n",
       "      <td>NaN</td>\n",
       "      <td>NaN</td>\n",
       "      <td>NaN</td>\n",
       "      <td>NaN</td>\n",
       "      <td>NaN</td>\n",
       "    </tr>\n",
       "    <tr>\n",
       "      <th>goal</th>\n",
       "      <td>0.000794</td>\n",
       "      <td>NaN</td>\n",
       "      <td>1.000000</td>\n",
       "      <td>-0.000655</td>\n",
       "      <td>0.020535</td>\n",
       "      <td>0.020215</td>\n",
       "      <td>0.019985</td>\n",
       "      <td>0.019948</td>\n",
       "      <td>0.009259</td>\n",
       "      <td>-0.019116</td>\n",
       "    </tr>\n",
       "    <tr>\n",
       "      <th>disable_communication</th>\n",
       "      <td>0.002815</td>\n",
       "      <td>NaN</td>\n",
       "      <td>-0.000655</td>\n",
       "      <td>1.000000</td>\n",
       "      <td>0.046816</td>\n",
       "      <td>0.044060</td>\n",
       "      <td>0.048996</td>\n",
       "      <td>0.046565</td>\n",
       "      <td>-0.003453</td>\n",
       "      <td>-0.038227</td>\n",
       "    </tr>\n",
       "    <tr>\n",
       "      <th>deadline</th>\n",
       "      <td>-0.002322</td>\n",
       "      <td>NaN</td>\n",
       "      <td>0.020535</td>\n",
       "      <td>0.046816</td>\n",
       "      <td>1.000000</td>\n",
       "      <td>0.999926</td>\n",
       "      <td>0.983909</td>\n",
       "      <td>0.999671</td>\n",
       "      <td>0.002374</td>\n",
       "      <td>-0.127966</td>\n",
       "    </tr>\n",
       "    <tr>\n",
       "      <th>state_changed_at</th>\n",
       "      <td>-0.002385</td>\n",
       "      <td>NaN</td>\n",
       "      <td>0.020215</td>\n",
       "      <td>0.044060</td>\n",
       "      <td>0.999926</td>\n",
       "      <td>1.000000</td>\n",
       "      <td>0.983827</td>\n",
       "      <td>0.999636</td>\n",
       "      <td>0.002603</td>\n",
       "      <td>-0.126473</td>\n",
       "    </tr>\n",
       "    <tr>\n",
       "      <th>created_at</th>\n",
       "      <td>-0.003373</td>\n",
       "      <td>NaN</td>\n",
       "      <td>0.019985</td>\n",
       "      <td>0.048996</td>\n",
       "      <td>0.983909</td>\n",
       "      <td>0.983827</td>\n",
       "      <td>1.000000</td>\n",
       "      <td>0.984363</td>\n",
       "      <td>-0.001944</td>\n",
       "      <td>-0.131623</td>\n",
       "    </tr>\n",
       "    <tr>\n",
       "      <th>launched_at</th>\n",
       "      <td>-0.002326</td>\n",
       "      <td>NaN</td>\n",
       "      <td>0.019948</td>\n",
       "      <td>0.046565</td>\n",
       "      <td>0.999671</td>\n",
       "      <td>0.999636</td>\n",
       "      <td>0.984363</td>\n",
       "      <td>1.000000</td>\n",
       "      <td>0.002451</td>\n",
       "      <td>-0.124845</td>\n",
       "    </tr>\n",
       "    <tr>\n",
       "      <th>backers_count</th>\n",
       "      <td>0.000466</td>\n",
       "      <td>NaN</td>\n",
       "      <td>0.009259</td>\n",
       "      <td>-0.003453</td>\n",
       "      <td>0.002374</td>\n",
       "      <td>0.002603</td>\n",
       "      <td>-0.001944</td>\n",
       "      <td>0.002451</td>\n",
       "      <td>1.000000</td>\n",
       "      <td>0.118597</td>\n",
       "    </tr>\n",
       "    <tr>\n",
       "      <th>final_status</th>\n",
       "      <td>-0.000643</td>\n",
       "      <td>NaN</td>\n",
       "      <td>-0.019116</td>\n",
       "      <td>-0.038227</td>\n",
       "      <td>-0.127966</td>\n",
       "      <td>-0.126473</td>\n",
       "      <td>-0.131623</td>\n",
       "      <td>-0.124845</td>\n",
       "      <td>0.118597</td>\n",
       "      <td>1.000000</td>\n",
       "    </tr>\n",
       "  </tbody>\n",
       "</table>\n",
       "</div>"
      ],
      "text/plain": [
       "                            ID   Unnamed: 16      goal  disable_communication  \\\n",
       "ID                     1.000000          NaN  0.000794               0.002815   \n",
       "Unnamed: 16                 NaN          NaN       NaN                    NaN   \n",
       "goal                   0.000794          NaN  1.000000              -0.000655   \n",
       "disable_communication  0.002815          NaN -0.000655               1.000000   \n",
       "deadline              -0.002322          NaN  0.020535               0.046816   \n",
       "state_changed_at      -0.002385          NaN  0.020215               0.044060   \n",
       "created_at            -0.003373          NaN  0.019985               0.048996   \n",
       "launched_at           -0.002326          NaN  0.019948               0.046565   \n",
       "backers_count          0.000466          NaN  0.009259              -0.003453   \n",
       "final_status          -0.000643          NaN -0.019116              -0.038227   \n",
       "\n",
       "                       deadline  state_changed_at  created_at  launched_at  \\\n",
       "ID                    -0.002322         -0.002385   -0.003373    -0.002326   \n",
       "Unnamed: 16                 NaN               NaN         NaN          NaN   \n",
       "goal                   0.020535          0.020215    0.019985     0.019948   \n",
       "disable_communication  0.046816          0.044060    0.048996     0.046565   \n",
       "deadline               1.000000          0.999926    0.983909     0.999671   \n",
       "state_changed_at       0.999926          1.000000    0.983827     0.999636   \n",
       "created_at             0.983909          0.983827    1.000000     0.984363   \n",
       "launched_at            0.999671          0.999636    0.984363     1.000000   \n",
       "backers_count          0.002374          0.002603   -0.001944     0.002451   \n",
       "final_status          -0.127966         -0.126473   -0.131623    -0.124845   \n",
       "\n",
       "                       backers_count  final_status  \n",
       "ID                          0.000466     -0.000643  \n",
       "Unnamed: 16                      NaN           NaN  \n",
       "goal                        0.009259     -0.019116  \n",
       "disable_communication      -0.003453     -0.038227  \n",
       "deadline                    0.002374     -0.127966  \n",
       "state_changed_at            0.002603     -0.126473  \n",
       "created_at                 -0.001944     -0.131623  \n",
       "launched_at                 0.002451     -0.124845  \n",
       "backers_count               1.000000      0.118597  \n",
       "final_status                0.118597      1.000000  "
      ]
     },
     "execution_count": 14,
     "metadata": {},
     "output_type": "execute_result"
    }
   ],
   "source": [
    "df.corr()"
   ]
  },
  {
   "cell_type": "code",
   "execution_count": 15,
   "metadata": {},
   "outputs": [],
   "source": [
    "df=df.drop(columns=['Unnamed: 13','Unnamed: 14','Unnamed: 15','Unnamed: 16','ID ','project_id'])"
   ]
  },
  {
   "cell_type": "markdown",
   "metadata": {},
   "source": [
    "* Drop Column with many missing value, Drop id and Project ID"
   ]
  },
  {
   "cell_type": "code",
   "execution_count": 16,
   "metadata": {},
   "outputs": [
    {
     "data": {
      "text/plain": [
       "(102302, 24)"
      ]
     },
     "execution_count": 16,
     "metadata": {},
     "output_type": "execute_result"
    }
   ],
   "source": [
    "df.shape"
   ]
  },
  {
   "cell_type": "code",
   "execution_count": 17,
   "metadata": {},
   "outputs": [
    {
     "data": {
      "text/html": [
       "<div>\n",
       "<style scoped>\n",
       "    .dataframe tbody tr th:only-of-type {\n",
       "        vertical-align: middle;\n",
       "    }\n",
       "\n",
       "    .dataframe tbody tr th {\n",
       "        vertical-align: top;\n",
       "    }\n",
       "\n",
       "    .dataframe thead th {\n",
       "        text-align: right;\n",
       "    }\n",
       "</style>\n",
       "<table border=\"1\" class=\"dataframe\">\n",
       "  <thead>\n",
       "    <tr style=\"text-align: right;\">\n",
       "      <th></th>\n",
       "      <th>name</th>\n",
       "      <th>category</th>\n",
       "      <th>main_category</th>\n",
       "      <th>currency</th>\n",
       "      <th>deadline</th>\n",
       "      <th>goal</th>\n",
       "      <th>launched</th>\n",
       "      <th>pledged</th>\n",
       "      <th>state</th>\n",
       "      <th>backers</th>\n",
       "      <th>...</th>\n",
       "      <th>keywords</th>\n",
       "      <th>disable_communication</th>\n",
       "      <th>country</th>\n",
       "      <th>currency</th>\n",
       "      <th>deadline</th>\n",
       "      <th>state_changed_at</th>\n",
       "      <th>created_at</th>\n",
       "      <th>launched_at</th>\n",
       "      <th>backers_count</th>\n",
       "      <th>final_status</th>\n",
       "    </tr>\n",
       "  </thead>\n",
       "  <tbody>\n",
       "    <tr>\n",
       "      <th>0</th>\n",
       "      <td>Where is Hank?</td>\n",
       "      <td>Narrative Film</td>\n",
       "      <td>Film &amp; Video</td>\n",
       "      <td>USD</td>\n",
       "      <td>2013-02-26 00:20:50</td>\n",
       "      <td>45000</td>\n",
       "      <td>2013-01-12 00:20:50</td>\n",
       "      <td>220</td>\n",
       "      <td>failed</td>\n",
       "      <td>3</td>\n",
       "      <td>...</td>\n",
       "      <td>where-is-hank</td>\n",
       "      <td>False</td>\n",
       "      <td>US</td>\n",
       "      <td>USD</td>\n",
       "      <td>1361834450</td>\n",
       "      <td>1361834450</td>\n",
       "      <td>1357603284</td>\n",
       "      <td>1357946450</td>\n",
       "      <td>3</td>\n",
       "      <td>0</td>\n",
       "    </tr>\n",
       "    <tr>\n",
       "      <th>1</th>\n",
       "      <td>Of Jesus and Madmen</td>\n",
       "      <td>Nonfiction</td>\n",
       "      <td>Publishing</td>\n",
       "      <td>CAD</td>\n",
       "      <td>2013-10-09 18:19:37</td>\n",
       "      <td>2500</td>\n",
       "      <td>2013-09-09 18:19:37</td>\n",
       "      <td>0</td>\n",
       "      <td>failed</td>\n",
       "      <td>0</td>\n",
       "      <td>...</td>\n",
       "      <td>of-jesus-and-madmen</td>\n",
       "      <td>False</td>\n",
       "      <td>CA</td>\n",
       "      <td>CAD</td>\n",
       "      <td>1381335577</td>\n",
       "      <td>1381335577</td>\n",
       "      <td>1378130153</td>\n",
       "      <td>1378743577</td>\n",
       "      <td>0</td>\n",
       "      <td>0</td>\n",
       "    </tr>\n",
       "    <tr>\n",
       "      <th>2</th>\n",
       "      <td>The Beard</td>\n",
       "      <td>Comic Books</td>\n",
       "      <td>Comics</td>\n",
       "      <td>USD</td>\n",
       "      <td>2014-11-08 22:27:52</td>\n",
       "      <td>1500</td>\n",
       "      <td>2014-10-09 22:27:52</td>\n",
       "      <td>395</td>\n",
       "      <td>failed</td>\n",
       "      <td>16</td>\n",
       "      <td>...</td>\n",
       "      <td>the-beard</td>\n",
       "      <td>False</td>\n",
       "      <td>US</td>\n",
       "      <td>USD</td>\n",
       "      <td>1415482072</td>\n",
       "      <td>1415482072</td>\n",
       "      <td>1412172842</td>\n",
       "      <td>1412886472</td>\n",
       "      <td>16</td>\n",
       "      <td>0</td>\n",
       "    </tr>\n",
       "    <tr>\n",
       "      <th>3</th>\n",
       "      <td>Notes From London: Above &amp; Below</td>\n",
       "      <td>Art Books</td>\n",
       "      <td>Publishing</td>\n",
       "      <td>USD</td>\n",
       "      <td>2015-05-10 21:20:54</td>\n",
       "      <td>3000</td>\n",
       "      <td>2015-04-10 21:20:54</td>\n",
       "      <td>789</td>\n",
       "      <td>failed</td>\n",
       "      <td>20</td>\n",
       "      <td>...</td>\n",
       "      <td>notes-from-london-above-and-below</td>\n",
       "      <td>False</td>\n",
       "      <td>US</td>\n",
       "      <td>USD</td>\n",
       "      <td>1431285654</td>\n",
       "      <td>1431285655</td>\n",
       "      <td>1428526605</td>\n",
       "      <td>1428693654</td>\n",
       "      <td>20</td>\n",
       "      <td>0</td>\n",
       "    </tr>\n",
       "    <tr>\n",
       "      <th>4</th>\n",
       "      <td>Mountain brew: A quest for alcohol sustainability</td>\n",
       "      <td>Drinks</td>\n",
       "      <td>Food</td>\n",
       "      <td>NOK</td>\n",
       "      <td>2015-02-25 19:17:33</td>\n",
       "      <td>500</td>\n",
       "      <td>2015-01-26 19:17:33</td>\n",
       "      <td>48</td>\n",
       "      <td>failed</td>\n",
       "      <td>3</td>\n",
       "      <td>...</td>\n",
       "      <td>mountain-brew-a-quest-for-alcohol-sustainability</td>\n",
       "      <td>False</td>\n",
       "      <td>NO</td>\n",
       "      <td>NOK</td>\n",
       "      <td>1424888253</td>\n",
       "      <td>1424888253</td>\n",
       "      <td>1422045831</td>\n",
       "      <td>1422296253</td>\n",
       "      <td>3</td>\n",
       "      <td>0</td>\n",
       "    </tr>\n",
       "    <tr>\n",
       "      <th>...</th>\n",
       "      <td>...</td>\n",
       "      <td>...</td>\n",
       "      <td>...</td>\n",
       "      <td>...</td>\n",
       "      <td>...</td>\n",
       "      <td>...</td>\n",
       "      <td>...</td>\n",
       "      <td>...</td>\n",
       "      <td>...</td>\n",
       "      <td>...</td>\n",
       "      <td>...</td>\n",
       "      <td>...</td>\n",
       "      <td>...</td>\n",
       "      <td>...</td>\n",
       "      <td>...</td>\n",
       "      <td>...</td>\n",
       "      <td>...</td>\n",
       "      <td>...</td>\n",
       "      <td>...</td>\n",
       "      <td>...</td>\n",
       "      <td>...</td>\n",
       "    </tr>\n",
       "    <tr>\n",
       "      <th>102297</th>\n",
       "      <td>AT THE BEACH</td>\n",
       "      <td>Classical Music</td>\n",
       "      <td>Music</td>\n",
       "      <td>CAD</td>\n",
       "      <td>2014-03-22 00:00:16</td>\n",
       "      <td>5000</td>\n",
       "      <td>2014-02-20 01:00:16</td>\n",
       "      <td>5501</td>\n",
       "      <td>successful</td>\n",
       "      <td>78</td>\n",
       "      <td>...</td>\n",
       "      <td>at-the-beach</td>\n",
       "      <td>False</td>\n",
       "      <td>CA</td>\n",
       "      <td>CAD</td>\n",
       "      <td>1395442816</td>\n",
       "      <td>1395442818</td>\n",
       "      <td>1390929074</td>\n",
       "      <td>1392854416</td>\n",
       "      <td>78</td>\n",
       "      <td>1</td>\n",
       "    </tr>\n",
       "    <tr>\n",
       "      <th>102298</th>\n",
       "      <td>Angela's Poetry (Canceled)</td>\n",
       "      <td>Poetry</td>\n",
       "      <td>Publishing</td>\n",
       "      <td>CAD</td>\n",
       "      <td>2014-09-20 03:46:07</td>\n",
       "      <td>5500</td>\n",
       "      <td>2014-08-06 03:46:07</td>\n",
       "      <td>0</td>\n",
       "      <td>canceled</td>\n",
       "      <td>0</td>\n",
       "      <td>...</td>\n",
       "      <td>angelas-poetry</td>\n",
       "      <td>False</td>\n",
       "      <td>CA</td>\n",
       "      <td>CAD</td>\n",
       "      <td>1411177567</td>\n",
       "      <td>1407292187</td>\n",
       "      <td>1407065500</td>\n",
       "      <td>1407289567</td>\n",
       "      <td>0</td>\n",
       "      <td>0</td>\n",
       "    </tr>\n",
       "    <tr>\n",
       "      <th>102299</th>\n",
       "      <td>The Tribe</td>\n",
       "      <td>Narrative Film</td>\n",
       "      <td>Film &amp; Video</td>\n",
       "      <td>USD</td>\n",
       "      <td>2011-07-19 03:35:14</td>\n",
       "      <td>1500</td>\n",
       "      <td>2011-06-22 03:35:14</td>\n",
       "      <td>155</td>\n",
       "      <td>failed</td>\n",
       "      <td>5</td>\n",
       "      <td>...</td>\n",
       "      <td>the-tribe</td>\n",
       "      <td>False</td>\n",
       "      <td>US</td>\n",
       "      <td>USD</td>\n",
       "      <td>1311039314</td>\n",
       "      <td>1311039316</td>\n",
       "      <td>1308165288</td>\n",
       "      <td>1308706514</td>\n",
       "      <td>5</td>\n",
       "      <td>0</td>\n",
       "    </tr>\n",
       "    <tr>\n",
       "      <th>102300</th>\n",
       "      <td>Walls of Remedy- New lesbian Romantic Comedy f...</td>\n",
       "      <td>Narrative Film</td>\n",
       "      <td>Film &amp; Video</td>\n",
       "      <td>USD</td>\n",
       "      <td>2010-08-16 05:59:00</td>\n",
       "      <td>15000</td>\n",
       "      <td>2010-07-01 19:40:30</td>\n",
       "      <td>20</td>\n",
       "      <td>failed</td>\n",
       "      <td>1</td>\n",
       "      <td>...</td>\n",
       "      <td>walls-of-remedy-new-lesbian-romantic-comedy-fe...</td>\n",
       "      <td>False</td>\n",
       "      <td>US</td>\n",
       "      <td>USD</td>\n",
       "      <td>1281931140</td>\n",
       "      <td>1281931226</td>\n",
       "      <td>1277507755</td>\n",
       "      <td>1278006030</td>\n",
       "      <td>1</td>\n",
       "      <td>0</td>\n",
       "    </tr>\n",
       "    <tr>\n",
       "      <th>102301</th>\n",
       "      <td>Nou Renmen Ayiti!  We Love Haiti!</td>\n",
       "      <td>Performance Art</td>\n",
       "      <td>Art</td>\n",
       "      <td>USD</td>\n",
       "      <td>2011-08-16 09:07:47</td>\n",
       "      <td>2000</td>\n",
       "      <td>2011-07-19 09:07:47</td>\n",
       "      <td>524</td>\n",
       "      <td>failed</td>\n",
       "      <td>17</td>\n",
       "      <td>...</td>\n",
       "      <td>nou-renmen-ayiti-we-love-haiti</td>\n",
       "      <td>False</td>\n",
       "      <td>US</td>\n",
       "      <td>USD</td>\n",
       "      <td>1313478467</td>\n",
       "      <td>1313478467</td>\n",
       "      <td>1310843805</td>\n",
       "      <td>1311059267</td>\n",
       "      <td>17</td>\n",
       "      <td>0</td>\n",
       "    </tr>\n",
       "  </tbody>\n",
       "</table>\n",
       "<p>102016 rows × 24 columns</p>\n",
       "</div>"
      ],
      "text/plain": [
       "                                                     name        category   \\\n",
       "0                                          Where is Hank?   Narrative Film   \n",
       "1                                     Of Jesus and Madmen       Nonfiction   \n",
       "2                                               The Beard      Comic Books   \n",
       "3                        Notes From London: Above & Below        Art Books   \n",
       "4       Mountain brew: A quest for alcohol sustainability           Drinks   \n",
       "...                                                   ...              ...   \n",
       "102297                                       AT THE BEACH  Classical Music   \n",
       "102298                         Angela's Poetry (Canceled)           Poetry   \n",
       "102299                                          The Tribe   Narrative Film   \n",
       "102300  Walls of Remedy- New lesbian Romantic Comedy f...   Narrative Film   \n",
       "102301                  Nou Renmen Ayiti!  We Love Haiti!  Performance Art   \n",
       "\n",
       "       main_category  currency             deadline   goal   \\\n",
       "0        Film & Video       USD  2013-02-26 00:20:50  45000   \n",
       "1          Publishing       CAD  2013-10-09 18:19:37   2500   \n",
       "2              Comics       USD  2014-11-08 22:27:52   1500   \n",
       "3          Publishing       USD  2015-05-10 21:20:54   3000   \n",
       "4                Food       NOK  2015-02-25 19:17:33    500   \n",
       "...               ...       ...                  ...    ...   \n",
       "102297          Music       CAD  2014-03-22 00:00:16   5000   \n",
       "102298     Publishing       CAD  2014-09-20 03:46:07   5500   \n",
       "102299   Film & Video       USD  2011-07-19 03:35:14   1500   \n",
       "102300   Film & Video       USD  2010-08-16 05:59:00  15000   \n",
       "102301            Art       USD  2011-08-16 09:07:47   2000   \n",
       "\n",
       "                  launched  pledged       state  backers   ...  \\\n",
       "0       2013-01-12 00:20:50      220      failed        3  ...   \n",
       "1       2013-09-09 18:19:37        0      failed        0  ...   \n",
       "2       2014-10-09 22:27:52      395      failed       16  ...   \n",
       "3       2015-04-10 21:20:54      789      failed       20  ...   \n",
       "4       2015-01-26 19:17:33       48      failed        3  ...   \n",
       "...                     ...      ...         ...      ...  ...   \n",
       "102297  2014-02-20 01:00:16     5501  successful       78  ...   \n",
       "102298  2014-08-06 03:46:07        0    canceled        0  ...   \n",
       "102299  2011-06-22 03:35:14      155      failed        5  ...   \n",
       "102300  2010-07-01 19:40:30       20      failed        1  ...   \n",
       "102301  2011-07-19 09:07:47      524      failed       17  ...   \n",
       "\n",
       "                                                 keywords  \\\n",
       "0                                           where-is-hank   \n",
       "1                                     of-jesus-and-madmen   \n",
       "2                                               the-beard   \n",
       "3                       notes-from-london-above-and-below   \n",
       "4        mountain-brew-a-quest-for-alcohol-sustainability   \n",
       "...                                                   ...   \n",
       "102297                                       at-the-beach   \n",
       "102298                                     angelas-poetry   \n",
       "102299                                          the-tribe   \n",
       "102300  walls-of-remedy-new-lesbian-romantic-comedy-fe...   \n",
       "102301                     nou-renmen-ayiti-we-love-haiti   \n",
       "\n",
       "       disable_communication country  currency    deadline  state_changed_at  \\\n",
       "0                      False      US       USD  1361834450        1361834450   \n",
       "1                      False      CA       CAD  1381335577        1381335577   \n",
       "2                      False      US       USD  1415482072        1415482072   \n",
       "3                      False      US       USD  1431285654        1431285655   \n",
       "4                      False      NO       NOK  1424888253        1424888253   \n",
       "...                      ...     ...       ...         ...               ...   \n",
       "102297                 False      CA       CAD  1395442816        1395442818   \n",
       "102298                 False      CA       CAD  1411177567        1407292187   \n",
       "102299                 False      US       USD  1311039314        1311039316   \n",
       "102300                 False      US       USD  1281931140        1281931226   \n",
       "102301                 False      US       USD  1313478467        1313478467   \n",
       "\n",
       "        created_at launched_at  backers_count  final_status  \n",
       "0       1357603284  1357946450              3             0  \n",
       "1       1378130153  1378743577              0             0  \n",
       "2       1412172842  1412886472             16             0  \n",
       "3       1428526605  1428693654             20             0  \n",
       "4       1422045831  1422296253              3             0  \n",
       "...            ...         ...            ...           ...  \n",
       "102297  1390929074  1392854416             78             1  \n",
       "102298  1407065500  1407289567              0             0  \n",
       "102299  1308165288  1308706514              5             0  \n",
       "102300  1277507755  1278006030              1             0  \n",
       "102301  1310843805  1311059267             17             0  \n",
       "\n",
       "[102016 rows x 24 columns]"
      ]
     },
     "execution_count": 17,
     "metadata": {},
     "output_type": "execute_result"
    }
   ],
   "source": [
    "df.dropna()"
   ]
  },
  {
   "cell_type": "code",
   "execution_count": 18,
   "metadata": {},
   "outputs": [
    {
     "data": {
      "text/plain": [
       "0"
      ]
     },
     "execution_count": 18,
     "metadata": {},
     "output_type": "execute_result"
    }
   ],
   "source": [
    "df.duplicated().sum()"
   ]
  },
  {
   "cell_type": "code",
   "execution_count": 19,
   "metadata": {},
   "outputs": [],
   "source": [
    "df['state_changed_at'] = pd.to_datetime(df['state_changed_at'],unit='s')\n",
    "\n",
    "df['deadline'] = pd.to_datetime(df['deadline'],unit='s')\n",
    "\n",
    "df['created_at'] = pd.to_datetime(df['created_at'],unit='s')\n",
    "\n",
    "df['launched_at'] = pd.to_datetime(df['launched_at'],unit='s')"
   ]
  },
  {
   "cell_type": "markdown",
   "metadata": {},
   "source": [
    "* Change Unix time format Column to Easier to read time format"
   ]
  },
  {
   "cell_type": "code",
   "execution_count": 20,
   "metadata": {},
   "outputs": [],
   "source": [
    "df=df.drop(columns='keywords')"
   ]
  },
  {
   "cell_type": "code",
   "execution_count": 21,
   "metadata": {},
   "outputs": [],
   "source": [
    "df=df.drop(columns=['deadline ','launched ','state ','currency ', 'goal ','backers ','country '])"
   ]
  },
  {
   "cell_type": "markdown",
   "metadata": {},
   "source": [
    "* Drop duplicate Column from joining datasets"
   ]
  },
  {
   "cell_type": "code",
   "execution_count": 22,
   "metadata": {},
   "outputs": [
    {
     "data": {
      "text/plain": [
       "name                             object\n",
       "category                         object\n",
       "main_category                    object\n",
       "pledged                          object\n",
       "usd pledged                      object\n",
       "desc                             object\n",
       "goal                            float64\n",
       "disable_communication              bool\n",
       "country                          object\n",
       "currency                         object\n",
       "deadline                 datetime64[ns]\n",
       "state_changed_at         datetime64[ns]\n",
       "created_at               datetime64[ns]\n",
       "launched_at              datetime64[ns]\n",
       "backers_count                     int64\n",
       "final_status                      int64\n",
       "dtype: object"
      ]
     },
     "execution_count": 22,
     "metadata": {},
     "output_type": "execute_result"
    }
   ],
   "source": [
    "df.dtypes"
   ]
  },
  {
   "cell_type": "code",
   "execution_count": 23,
   "metadata": {},
   "outputs": [],
   "source": [
    "df['deadline'] = pd.to_datetime(df['deadline']).dt.floor('d')\n",
    "\n",
    "df['state_changed_at'] = pd.to_datetime(df['state_changed_at']).dt.floor('d')\n",
    "\n",
    "df['launched_at'] = pd.to_datetime(df['launched_at']).dt.floor('d')\n",
    "\n",
    "df['created_at'] = pd.to_datetime(df['created_at']).dt.floor('d')"
   ]
  },
  {
   "cell_type": "markdown",
   "metadata": {},
   "source": [
    "* Deleting M-H-S from time"
   ]
  },
  {
   "cell_type": "code",
   "execution_count": 24,
   "metadata": {},
   "outputs": [
    {
     "data": {
      "text/html": [
       "<div>\n",
       "<style scoped>\n",
       "    .dataframe tbody tr th:only-of-type {\n",
       "        vertical-align: middle;\n",
       "    }\n",
       "\n",
       "    .dataframe tbody tr th {\n",
       "        vertical-align: top;\n",
       "    }\n",
       "\n",
       "    .dataframe thead th {\n",
       "        text-align: right;\n",
       "    }\n",
       "</style>\n",
       "<table border=\"1\" class=\"dataframe\">\n",
       "  <thead>\n",
       "    <tr style=\"text-align: right;\">\n",
       "      <th></th>\n",
       "      <th>name</th>\n",
       "      <th>category</th>\n",
       "      <th>main_category</th>\n",
       "      <th>pledged</th>\n",
       "      <th>usd pledged</th>\n",
       "      <th>desc</th>\n",
       "      <th>goal</th>\n",
       "      <th>disable_communication</th>\n",
       "      <th>country</th>\n",
       "      <th>currency</th>\n",
       "      <th>deadline</th>\n",
       "      <th>state_changed_at</th>\n",
       "      <th>created_at</th>\n",
       "      <th>launched_at</th>\n",
       "      <th>backers_count</th>\n",
       "      <th>final_status</th>\n",
       "    </tr>\n",
       "  </thead>\n",
       "  <tbody>\n",
       "    <tr>\n",
       "      <th>0</th>\n",
       "      <td>Where is Hank?</td>\n",
       "      <td>Narrative Film</td>\n",
       "      <td>Film &amp; Video</td>\n",
       "      <td>220</td>\n",
       "      <td>220</td>\n",
       "      <td>Abandoned Property. Sounds of struggle, muffle...</td>\n",
       "      <td>45000.0</td>\n",
       "      <td>False</td>\n",
       "      <td>US</td>\n",
       "      <td>USD</td>\n",
       "      <td>2013-02-25</td>\n",
       "      <td>2013-02-25</td>\n",
       "      <td>2013-01-08</td>\n",
       "      <td>2013-01-11</td>\n",
       "      <td>3</td>\n",
       "      <td>0</td>\n",
       "    </tr>\n",
       "    <tr>\n",
       "      <th>1</th>\n",
       "      <td>Of Jesus and Madmen</td>\n",
       "      <td>Nonfiction</td>\n",
       "      <td>Publishing</td>\n",
       "      <td>0</td>\n",
       "      <td>0</td>\n",
       "      <td>This is an autobiography of my personal experi...</td>\n",
       "      <td>2500.0</td>\n",
       "      <td>False</td>\n",
       "      <td>CA</td>\n",
       "      <td>CAD</td>\n",
       "      <td>2013-10-09</td>\n",
       "      <td>2013-10-09</td>\n",
       "      <td>2013-09-02</td>\n",
       "      <td>2013-09-09</td>\n",
       "      <td>0</td>\n",
       "      <td>0</td>\n",
       "    </tr>\n",
       "    <tr>\n",
       "      <th>2</th>\n",
       "      <td>The Beard</td>\n",
       "      <td>Comic Books</td>\n",
       "      <td>Comics</td>\n",
       "      <td>395</td>\n",
       "      <td>395</td>\n",
       "      <td>'The beard' is a comedy based comic about an a...</td>\n",
       "      <td>1500.0</td>\n",
       "      <td>False</td>\n",
       "      <td>US</td>\n",
       "      <td>USD</td>\n",
       "      <td>2014-11-08</td>\n",
       "      <td>2014-11-08</td>\n",
       "      <td>2014-10-01</td>\n",
       "      <td>2014-10-09</td>\n",
       "      <td>16</td>\n",
       "      <td>0</td>\n",
       "    </tr>\n",
       "    <tr>\n",
       "      <th>3</th>\n",
       "      <td>Notes From London: Above &amp; Below</td>\n",
       "      <td>Art Books</td>\n",
       "      <td>Publishing</td>\n",
       "      <td>789</td>\n",
       "      <td>789</td>\n",
       "      <td>Notes From London: Above &amp; Below is an unusual...</td>\n",
       "      <td>3000.0</td>\n",
       "      <td>False</td>\n",
       "      <td>US</td>\n",
       "      <td>USD</td>\n",
       "      <td>2015-05-10</td>\n",
       "      <td>2015-05-10</td>\n",
       "      <td>2015-04-08</td>\n",
       "      <td>2015-04-10</td>\n",
       "      <td>20</td>\n",
       "      <td>0</td>\n",
       "    </tr>\n",
       "    <tr>\n",
       "      <th>4</th>\n",
       "      <td>Mountain brew: A quest for alcohol sustainability</td>\n",
       "      <td>Drinks</td>\n",
       "      <td>Food</td>\n",
       "      <td>48</td>\n",
       "      <td>6.18000816</td>\n",
       "      <td>This is the start of an exiting venture of bre...</td>\n",
       "      <td>500.0</td>\n",
       "      <td>False</td>\n",
       "      <td>NO</td>\n",
       "      <td>NOK</td>\n",
       "      <td>2015-02-25</td>\n",
       "      <td>2015-02-25</td>\n",
       "      <td>2015-01-23</td>\n",
       "      <td>2015-01-26</td>\n",
       "      <td>3</td>\n",
       "      <td>0</td>\n",
       "    </tr>\n",
       "    <tr>\n",
       "      <th>...</th>\n",
       "      <td>...</td>\n",
       "      <td>...</td>\n",
       "      <td>...</td>\n",
       "      <td>...</td>\n",
       "      <td>...</td>\n",
       "      <td>...</td>\n",
       "      <td>...</td>\n",
       "      <td>...</td>\n",
       "      <td>...</td>\n",
       "      <td>...</td>\n",
       "      <td>...</td>\n",
       "      <td>...</td>\n",
       "      <td>...</td>\n",
       "      <td>...</td>\n",
       "      <td>...</td>\n",
       "      <td>...</td>\n",
       "    </tr>\n",
       "    <tr>\n",
       "      <th>102297</th>\n",
       "      <td>AT THE BEACH</td>\n",
       "      <td>Classical Music</td>\n",
       "      <td>Music</td>\n",
       "      <td>5501</td>\n",
       "      <td>5019.92088197</td>\n",
       "      <td>Recording a second CD with original piano musi...</td>\n",
       "      <td>5000.0</td>\n",
       "      <td>False</td>\n",
       "      <td>CA</td>\n",
       "      <td>CAD</td>\n",
       "      <td>2014-03-21</td>\n",
       "      <td>2014-03-21</td>\n",
       "      <td>2014-01-28</td>\n",
       "      <td>2014-02-20</td>\n",
       "      <td>78</td>\n",
       "      <td>1</td>\n",
       "    </tr>\n",
       "    <tr>\n",
       "      <th>102298</th>\n",
       "      <td>Angela's Poetry (Canceled)</td>\n",
       "      <td>Poetry</td>\n",
       "      <td>Publishing</td>\n",
       "      <td>0</td>\n",
       "      <td>0</td>\n",
       "      <td>A collection of poems that I have written over...</td>\n",
       "      <td>5500.0</td>\n",
       "      <td>False</td>\n",
       "      <td>CA</td>\n",
       "      <td>CAD</td>\n",
       "      <td>2014-09-20</td>\n",
       "      <td>2014-08-06</td>\n",
       "      <td>2014-08-03</td>\n",
       "      <td>2014-08-06</td>\n",
       "      <td>0</td>\n",
       "      <td>0</td>\n",
       "    </tr>\n",
       "    <tr>\n",
       "      <th>102299</th>\n",
       "      <td>The Tribe</td>\n",
       "      <td>Narrative Film</td>\n",
       "      <td>Film &amp; Video</td>\n",
       "      <td>155</td>\n",
       "      <td>155</td>\n",
       "      <td>Teenage outcasts come together to form a 60’s ...</td>\n",
       "      <td>1500.0</td>\n",
       "      <td>False</td>\n",
       "      <td>US</td>\n",
       "      <td>USD</td>\n",
       "      <td>2011-07-19</td>\n",
       "      <td>2011-07-19</td>\n",
       "      <td>2011-06-15</td>\n",
       "      <td>2011-06-22</td>\n",
       "      <td>5</td>\n",
       "      <td>0</td>\n",
       "    </tr>\n",
       "    <tr>\n",
       "      <th>102300</th>\n",
       "      <td>Walls of Remedy- New lesbian Romantic Comedy f...</td>\n",
       "      <td>Narrative Film</td>\n",
       "      <td>Film &amp; Video</td>\n",
       "      <td>20</td>\n",
       "      <td>20</td>\n",
       "      <td>A feature film about life, love, sex, and lesb...</td>\n",
       "      <td>15000.0</td>\n",
       "      <td>False</td>\n",
       "      <td>US</td>\n",
       "      <td>USD</td>\n",
       "      <td>2010-08-16</td>\n",
       "      <td>2010-08-16</td>\n",
       "      <td>2010-06-25</td>\n",
       "      <td>2010-07-01</td>\n",
       "      <td>1</td>\n",
       "      <td>0</td>\n",
       "    </tr>\n",
       "    <tr>\n",
       "      <th>102301</th>\n",
       "      <td>Nou Renmen Ayiti!  We Love Haiti!</td>\n",
       "      <td>Performance Art</td>\n",
       "      <td>Art</td>\n",
       "      <td>524</td>\n",
       "      <td>524</td>\n",
       "      <td>Celebrating the beauty of Ayiti with the commu...</td>\n",
       "      <td>2000.0</td>\n",
       "      <td>False</td>\n",
       "      <td>US</td>\n",
       "      <td>USD</td>\n",
       "      <td>2011-08-16</td>\n",
       "      <td>2011-08-16</td>\n",
       "      <td>2011-07-16</td>\n",
       "      <td>2011-07-19</td>\n",
       "      <td>17</td>\n",
       "      <td>0</td>\n",
       "    </tr>\n",
       "  </tbody>\n",
       "</table>\n",
       "<p>102302 rows × 16 columns</p>\n",
       "</div>"
      ],
      "text/plain": [
       "                                                     name        category   \\\n",
       "0                                          Where is Hank?   Narrative Film   \n",
       "1                                     Of Jesus and Madmen       Nonfiction   \n",
       "2                                               The Beard      Comic Books   \n",
       "3                        Notes From London: Above & Below        Art Books   \n",
       "4       Mountain brew: A quest for alcohol sustainability           Drinks   \n",
       "...                                                   ...              ...   \n",
       "102297                                       AT THE BEACH  Classical Music   \n",
       "102298                         Angela's Poetry (Canceled)           Poetry   \n",
       "102299                                          The Tribe   Narrative Film   \n",
       "102300  Walls of Remedy- New lesbian Romantic Comedy f...   Narrative Film   \n",
       "102301                  Nou Renmen Ayiti!  We Love Haiti!  Performance Art   \n",
       "\n",
       "       main_category  pledged    usd pledged   \\\n",
       "0        Film & Video      220            220   \n",
       "1          Publishing        0              0   \n",
       "2              Comics      395            395   \n",
       "3          Publishing      789            789   \n",
       "4                Food       48     6.18000816   \n",
       "...               ...      ...            ...   \n",
       "102297          Music     5501  5019.92088197   \n",
       "102298     Publishing        0              0   \n",
       "102299   Film & Video      155            155   \n",
       "102300   Film & Video       20             20   \n",
       "102301            Art      524            524   \n",
       "\n",
       "                                                     desc     goal  \\\n",
       "0       Abandoned Property. Sounds of struggle, muffle...  45000.0   \n",
       "1       This is an autobiography of my personal experi...   2500.0   \n",
       "2       'The beard' is a comedy based comic about an a...   1500.0   \n",
       "3       Notes From London: Above & Below is an unusual...   3000.0   \n",
       "4       This is the start of an exiting venture of bre...    500.0   \n",
       "...                                                   ...      ...   \n",
       "102297  Recording a second CD with original piano musi...   5000.0   \n",
       "102298  A collection of poems that I have written over...   5500.0   \n",
       "102299  Teenage outcasts come together to form a 60’s ...   1500.0   \n",
       "102300  A feature film about life, love, sex, and lesb...  15000.0   \n",
       "102301  Celebrating the beauty of Ayiti with the commu...   2000.0   \n",
       "\n",
       "        disable_communication country currency   deadline state_changed_at  \\\n",
       "0                       False      US      USD 2013-02-25       2013-02-25   \n",
       "1                       False      CA      CAD 2013-10-09       2013-10-09   \n",
       "2                       False      US      USD 2014-11-08       2014-11-08   \n",
       "3                       False      US      USD 2015-05-10       2015-05-10   \n",
       "4                       False      NO      NOK 2015-02-25       2015-02-25   \n",
       "...                       ...     ...      ...        ...              ...   \n",
       "102297                  False      CA      CAD 2014-03-21       2014-03-21   \n",
       "102298                  False      CA      CAD 2014-09-20       2014-08-06   \n",
       "102299                  False      US      USD 2011-07-19       2011-07-19   \n",
       "102300                  False      US      USD 2010-08-16       2010-08-16   \n",
       "102301                  False      US      USD 2011-08-16       2011-08-16   \n",
       "\n",
       "       created_at launched_at  backers_count  final_status  \n",
       "0      2013-01-08  2013-01-11              3             0  \n",
       "1      2013-09-02  2013-09-09              0             0  \n",
       "2      2014-10-01  2014-10-09             16             0  \n",
       "3      2015-04-08  2015-04-10             20             0  \n",
       "4      2015-01-23  2015-01-26              3             0  \n",
       "...           ...         ...            ...           ...  \n",
       "102297 2014-01-28  2014-02-20             78             1  \n",
       "102298 2014-08-03  2014-08-06              0             0  \n",
       "102299 2011-06-15  2011-06-22              5             0  \n",
       "102300 2010-06-25  2010-07-01              1             0  \n",
       "102301 2011-07-16  2011-07-19             17             0  \n",
       "\n",
       "[102302 rows x 16 columns]"
      ]
     },
     "execution_count": 24,
     "metadata": {},
     "output_type": "execute_result"
    }
   ],
   "source": [
    "df"
   ]
  },
  {
   "cell_type": "code",
   "execution_count": 25,
   "metadata": {},
   "outputs": [],
   "source": [
    "df['Create_Launched']=df['launched_at']-df['created_at']\n",
    "\n",
    "df['Launched_Changed']=df['state_changed_at']-df['launched_at']\n",
    "\n",
    "df['Launched_Deadline']=df['deadline']-df['launched_at']\n",
    "\n",
    "df['Changed_Deadline']=df['deadline']-df['state_changed_at']"
   ]
  },
  {
   "cell_type": "markdown",
   "metadata": {},
   "source": [
    "* Create new column from existing time column."
   ]
  },
  {
   "cell_type": "code",
   "execution_count": 26,
   "metadata": {},
   "outputs": [],
   "source": [
    "df['launched_at'] = df['launched_at'].astype('str')\n",
    "\n",
    "df['Create_Launched'] = df['Create_Launched'].astype('str')\n",
    "\n",
    "df['Launched_Changed'] = df['Launched_Changed'].astype('str')\n",
    "\n",
    "df['Launched_Deadline'] = df['Launched_Deadline'].astype('str')\n",
    "\n",
    "df['Changed_Deadline'] = df['Changed_Deadline'].astype('str')"
   ]
  },
  {
   "cell_type": "code",
   "execution_count": 27,
   "metadata": {},
   "outputs": [],
   "source": [
    "df['year'] = df['launched_at'].str[0:4]"
   ]
  },
  {
   "cell_type": "code",
   "execution_count": 28,
   "metadata": {},
   "outputs": [],
   "source": [
    "df['Create_Launched'] = df['Create_Launched'].str.replace(r'\\D', '')\n",
    "df['Launched_Changed'] = df['Launched_Changed'].str.replace(r'\\D', '')\n",
    "df['Launched_Deadline'] = df['Launched_Deadline'].str.replace(r'\\D', '')\n",
    "df['Changed_Deadline'] = df['Changed_Deadline'].str.replace(r'\\D', '')"
   ]
  },
  {
   "cell_type": "markdown",
   "metadata": {},
   "source": [
    "* Removing word from time column"
   ]
  },
  {
   "cell_type": "code",
   "execution_count": 29,
   "metadata": {},
   "outputs": [],
   "source": [
    "df['Create_Launched'] = df['Create_Launched'].astype('int')\n",
    "df['Launched_Changed'] = df['Launched_Changed'].astype('int')\n",
    "df['Launched_Deadline'] = df['Launched_Deadline'].astype('int')\n",
    "df['Changed_Deadline'] = df['Changed_Deadline'].astype('int')"
   ]
  },
  {
   "cell_type": "code",
   "execution_count": 30,
   "metadata": {},
   "outputs": [
    {
     "data": {
      "text/plain": [
       "name                             object\n",
       "category                         object\n",
       "main_category                    object\n",
       "pledged                          object\n",
       "usd pledged                      object\n",
       "desc                             object\n",
       "goal                            float64\n",
       "disable_communication              bool\n",
       "country                          object\n",
       "currency                         object\n",
       "deadline                 datetime64[ns]\n",
       "state_changed_at         datetime64[ns]\n",
       "created_at               datetime64[ns]\n",
       "launched_at                      object\n",
       "backers_count                     int64\n",
       "final_status                      int64\n",
       "Create_Launched                   int32\n",
       "Launched_Changed                  int32\n",
       "Launched_Deadline                 int32\n",
       "Changed_Deadline                  int32\n",
       "year                             object\n",
       "dtype: object"
      ]
     },
     "execution_count": 30,
     "metadata": {},
     "output_type": "execute_result"
    }
   ],
   "source": [
    "df.dtypes"
   ]
  },
  {
   "cell_type": "code",
   "execution_count": 31,
   "metadata": {},
   "outputs": [
    {
     "data": {
      "text/html": [
       "<div>\n",
       "<style scoped>\n",
       "    .dataframe tbody tr th:only-of-type {\n",
       "        vertical-align: middle;\n",
       "    }\n",
       "\n",
       "    .dataframe tbody tr th {\n",
       "        vertical-align: top;\n",
       "    }\n",
       "\n",
       "    .dataframe thead th {\n",
       "        text-align: right;\n",
       "    }\n",
       "</style>\n",
       "<table border=\"1\" class=\"dataframe\">\n",
       "  <thead>\n",
       "    <tr style=\"text-align: right;\">\n",
       "      <th></th>\n",
       "      <th>goal</th>\n",
       "      <th>backers_count</th>\n",
       "      <th>final_status</th>\n",
       "      <th>Create_Launched</th>\n",
       "      <th>Launched_Changed</th>\n",
       "      <th>Launched_Deadline</th>\n",
       "      <th>Changed_Deadline</th>\n",
       "    </tr>\n",
       "  </thead>\n",
       "  <tbody>\n",
       "    <tr>\n",
       "      <th>count</th>\n",
       "      <td>1.023020e+05</td>\n",
       "      <td>102302.000000</td>\n",
       "      <td>102302.000000</td>\n",
       "      <td>102302.000000</td>\n",
       "      <td>102302.000000</td>\n",
       "      <td>102302.000000</td>\n",
       "      <td>102302.000000</td>\n",
       "    </tr>\n",
       "    <tr>\n",
       "      <th>mean</th>\n",
       "      <td>3.671938e+04</td>\n",
       "      <td>127.020019</td>\n",
       "      <td>0.316387</td>\n",
       "      <td>37.537389</td>\n",
       "      <td>32.884127</td>\n",
       "      <td>34.031847</td>\n",
       "      <td>1.155481</td>\n",
       "    </tr>\n",
       "    <tr>\n",
       "      <th>std</th>\n",
       "      <td>9.473126e+05</td>\n",
       "      <td>1207.643485</td>\n",
       "      <td>0.465068</td>\n",
       "      <td>86.419114</td>\n",
       "      <td>13.518480</td>\n",
       "      <td>12.785987</td>\n",
       "      <td>5.945487</td>\n",
       "    </tr>\n",
       "    <tr>\n",
       "      <th>min</th>\n",
       "      <td>1.000000e-02</td>\n",
       "      <td>0.000000</td>\n",
       "      <td>0.000000</td>\n",
       "      <td>0.000000</td>\n",
       "      <td>0.000000</td>\n",
       "      <td>1.000000</td>\n",
       "      <td>0.000000</td>\n",
       "    </tr>\n",
       "    <tr>\n",
       "      <th>25%</th>\n",
       "      <td>2.000000e+03</td>\n",
       "      <td>2.000000</td>\n",
       "      <td>0.000000</td>\n",
       "      <td>3.000000</td>\n",
       "      <td>30.000000</td>\n",
       "      <td>30.000000</td>\n",
       "      <td>0.000000</td>\n",
       "    </tr>\n",
       "    <tr>\n",
       "      <th>50%</th>\n",
       "      <td>5.000000e+03</td>\n",
       "      <td>16.000000</td>\n",
       "      <td>0.000000</td>\n",
       "      <td>10.000000</td>\n",
       "      <td>30.000000</td>\n",
       "      <td>30.000000</td>\n",
       "      <td>0.000000</td>\n",
       "    </tr>\n",
       "    <tr>\n",
       "      <th>75%</th>\n",
       "      <td>1.400000e+04</td>\n",
       "      <td>65.000000</td>\n",
       "      <td>1.000000</td>\n",
       "      <td>33.000000</td>\n",
       "      <td>35.000000</td>\n",
       "      <td>36.000000</td>\n",
       "      <td>0.000000</td>\n",
       "    </tr>\n",
       "    <tr>\n",
       "      <th>max</th>\n",
       "      <td>1.000000e+08</td>\n",
       "      <td>219382.000000</td>\n",
       "      <td>1.000000</td>\n",
       "      <td>1869.000000</td>\n",
       "      <td>354.000000</td>\n",
       "      <td>92.000000</td>\n",
       "      <td>295.000000</td>\n",
       "    </tr>\n",
       "  </tbody>\n",
       "</table>\n",
       "</div>"
      ],
      "text/plain": [
       "               goal  backers_count   final_status  Create_Launched  \\\n",
       "count  1.023020e+05  102302.000000  102302.000000    102302.000000   \n",
       "mean   3.671938e+04     127.020019       0.316387        37.537389   \n",
       "std    9.473126e+05    1207.643485       0.465068        86.419114   \n",
       "min    1.000000e-02       0.000000       0.000000         0.000000   \n",
       "25%    2.000000e+03       2.000000       0.000000         3.000000   \n",
       "50%    5.000000e+03      16.000000       0.000000        10.000000   \n",
       "75%    1.400000e+04      65.000000       1.000000        33.000000   \n",
       "max    1.000000e+08  219382.000000       1.000000      1869.000000   \n",
       "\n",
       "       Launched_Changed  Launched_Deadline  Changed_Deadline  \n",
       "count     102302.000000      102302.000000     102302.000000  \n",
       "mean          32.884127          34.031847          1.155481  \n",
       "std           13.518480          12.785987          5.945487  \n",
       "min            0.000000           1.000000          0.000000  \n",
       "25%           30.000000          30.000000          0.000000  \n",
       "50%           30.000000          30.000000          0.000000  \n",
       "75%           35.000000          36.000000          0.000000  \n",
       "max          354.000000          92.000000        295.000000  "
      ]
     },
     "execution_count": 31,
     "metadata": {},
     "output_type": "execute_result"
    }
   ],
   "source": [
    "df.describe()"
   ]
  },
  {
   "cell_type": "code",
   "execution_count": 32,
   "metadata": {},
   "outputs": [
    {
     "data": {
      "text/html": [
       "<div>\n",
       "<style scoped>\n",
       "    .dataframe tbody tr th:only-of-type {\n",
       "        vertical-align: middle;\n",
       "    }\n",
       "\n",
       "    .dataframe tbody tr th {\n",
       "        vertical-align: top;\n",
       "    }\n",
       "\n",
       "    .dataframe thead th {\n",
       "        text-align: right;\n",
       "    }\n",
       "</style>\n",
       "<table border=\"1\" class=\"dataframe\">\n",
       "  <thead>\n",
       "    <tr style=\"text-align: right;\">\n",
       "      <th></th>\n",
       "      <th>name</th>\n",
       "      <th>category</th>\n",
       "      <th>main_category</th>\n",
       "      <th>pledged</th>\n",
       "      <th>usd pledged</th>\n",
       "      <th>desc</th>\n",
       "      <th>country</th>\n",
       "      <th>currency</th>\n",
       "      <th>launched_at</th>\n",
       "      <th>year</th>\n",
       "    </tr>\n",
       "  </thead>\n",
       "  <tbody>\n",
       "    <tr>\n",
       "      <th>count</th>\n",
       "      <td>102290</td>\n",
       "      <td>102302</td>\n",
       "      <td>102302</td>\n",
       "      <td>102302</td>\n",
       "      <td>102058</td>\n",
       "      <td>102264</td>\n",
       "      <td>102302</td>\n",
       "      <td>102302</td>\n",
       "      <td>102302</td>\n",
       "      <td>102302</td>\n",
       "    </tr>\n",
       "    <tr>\n",
       "      <th>unique</th>\n",
       "      <td>99869</td>\n",
       "      <td>163</td>\n",
       "      <td>18</td>\n",
       "      <td>26879</td>\n",
       "      <td>37464</td>\n",
       "      <td>99468</td>\n",
       "      <td>11</td>\n",
       "      <td>9</td>\n",
       "      <td>2160</td>\n",
       "      <td>7</td>\n",
       "    </tr>\n",
       "    <tr>\n",
       "      <th>top</th>\n",
       "      <td>New EP/Music Development</td>\n",
       "      <td>Video Games</td>\n",
       "      <td>Film &amp; Video</td>\n",
       "      <td>0</td>\n",
       "      <td>0</td>\n",
       "      <td>Breakout Artist Management has offered to work...</td>\n",
       "      <td>US</td>\n",
       "      <td>USD</td>\n",
       "      <td>2014-07-09</td>\n",
       "      <td>2014</td>\n",
       "    </tr>\n",
       "    <tr>\n",
       "      <th>freq</th>\n",
       "      <td>287</td>\n",
       "      <td>5127</td>\n",
       "      <td>19017</td>\n",
       "      <td>12486</td>\n",
       "      <td>12447</td>\n",
       "      <td>267</td>\n",
       "      <td>86301</td>\n",
       "      <td>86301</td>\n",
       "      <td>522</td>\n",
       "      <td>36478</td>\n",
       "    </tr>\n",
       "  </tbody>\n",
       "</table>\n",
       "</div>"
      ],
      "text/plain": [
       "                            name    category  main_category  pledged   \\\n",
       "count                     102290       102302         102302   102302   \n",
       "unique                     99869          163             18    26879   \n",
       "top     New EP/Music Development  Video Games   Film & Video        0   \n",
       "freq                         287         5127          19017    12486   \n",
       "\n",
       "       usd pledged                                                desc  \\\n",
       "count        102058                                             102264   \n",
       "unique        37464                                              99468   \n",
       "top               0  Breakout Artist Management has offered to work...   \n",
       "freq          12447                                                267   \n",
       "\n",
       "       country currency launched_at    year  \n",
       "count   102302   102302      102302  102302  \n",
       "unique      11        9        2160       7  \n",
       "top         US      USD  2014-07-09    2014  \n",
       "freq     86301    86301         522   36478  "
      ]
     },
     "execution_count": 32,
     "metadata": {},
     "output_type": "execute_result"
    }
   ],
   "source": [
    "df.describe(include='O')"
   ]
  },
  {
   "cell_type": "code",
   "execution_count": 33,
   "metadata": {},
   "outputs": [
    {
     "data": {
      "text/plain": [
       "USD    86301\n",
       "GBP     8721\n",
       "CAD     3736\n",
       "AUD     1854\n",
       "EUR      807\n",
       "NZD      345\n",
       "SEK      240\n",
       "DKK      191\n",
       "NOK      107\n",
       "Name: currency, dtype: int64"
      ]
     },
     "execution_count": 33,
     "metadata": {},
     "output_type": "execute_result"
    }
   ],
   "source": [
    "df['currency'].value_counts()"
   ]
  },
  {
   "cell_type": "code",
   "execution_count": 34,
   "metadata": {},
   "outputs": [],
   "source": [
    "goal_usd=[]\n",
    "for i in df['currency']:\n",
    "    if i == 'GBP':\n",
    "        c= 0.75\n",
    "    if i == 'USD':\n",
    "        c= 1\n",
    "    if i == 'CAD':\n",
    "        c=1.3\n",
    "    if i == 'AUD':\n",
    "        c=1.37\n",
    "    if i == 'EUR':\n",
    "        c=0.82\n",
    "    if i =='NZD':\n",
    "        c=1.45\n",
    "    if i == 'SEK':\n",
    "        c=8.64\n",
    "    if i == 'DKK':\n",
    "        c=6.32\n",
    "    if i == 'NOK':\n",
    "        c= 9.02\n",
    "    goal_usd.append(c)"
   ]
  },
  {
   "cell_type": "code",
   "execution_count": 35,
   "metadata": {},
   "outputs": [],
   "source": [
    "df['goal_usd']=goal_usd\n",
    "df['goal_usd']=df['goal'] / df['goal_usd']"
   ]
  },
  {
   "cell_type": "code",
   "execution_count": 36,
   "metadata": {},
   "outputs": [],
   "source": [
    "df.to_csv(\"Clean_KS_with_outlier.csv\", index=False)"
   ]
  },
  {
   "cell_type": "code",
   "execution_count": 37,
   "metadata": {},
   "outputs": [
    {
     "data": {
      "text/plain": [
       "Index(['name', 'category ', 'main_category ', 'pledged ', 'usd pledged ',\n",
       "       'desc', 'goal', 'disable_communication', 'country', 'currency',\n",
       "       'deadline', 'state_changed_at', 'created_at', 'launched_at',\n",
       "       'backers_count', 'final_status', 'Create_Launched', 'Launched_Changed',\n",
       "       'Launched_Deadline', 'Changed_Deadline', 'year', 'goal_usd'],\n",
       "      dtype='object')"
      ]
     },
     "execution_count": 37,
     "metadata": {},
     "output_type": "execute_result"
    }
   ],
   "source": [
    "df.columns"
   ]
  },
  {
   "cell_type": "markdown",
   "metadata": {},
   "source": [
    "* Name : the name of Project.\n",
    "* Category : Category for each project.\n",
    "* Main Category :  Mother of Category.\n",
    "* Pledged : How much Backers backing (count by money).\n",
    "* Goal : project target amount.\n",
    "* Disable Communication : Does the project owner disable communication with backers or not.\n",
    "* Country : Location of the project owner's country.\n",
    "* Currency : The type of currency project owners use in the projects they post.\n",
    "* Deadline : The time when the project ends and can no longer be backed.\n",
    "* State changed: The time when a project's status changes, be it canceled, successful, failed, or whatever.\n",
    "* Create at : the time a project owner tries to post their project.\n",
    "* Launched at : when the project is actually published.\n",
    "* Backers count: Count of backers each project.\n",
    "* final status : final state of the project."
   ]
  },
  {
   "cell_type": "code",
   "execution_count": 38,
   "metadata": {},
   "outputs": [
    {
     "data": {
      "text/plain": [
       "count    1.023020e+05\n",
       "mean     3.511256e+04\n",
       "std      8.720726e+05\n",
       "min      1.000000e-02\n",
       "25%      2.000000e+03\n",
       "50%      5.000000e+03\n",
       "75%      1.333333e+04\n",
       "max      1.000000e+08\n",
       "Name: goal_usd, dtype: float64"
      ]
     },
     "execution_count": 38,
     "metadata": {},
     "output_type": "execute_result"
    }
   ],
   "source": [
    "df['goal_usd'].describe()"
   ]
  },
  {
   "cell_type": "code",
   "execution_count": 39,
   "metadata": {},
   "outputs": [
    {
     "data": {
      "text/plain": [
       "<AxesSubplot:xlabel='final_status', ylabel='goal_usd'>"
      ]
     },
     "execution_count": 39,
     "metadata": {},
     "output_type": "execute_result"
    },
    {
     "data": {
      "image/png": "[encoded data removed]",
      "text/plain": [
       "<Figure size 864x576 with 1 Axes>"
      ]
     },
     "metadata": {
      "needs_background": "light"
     },
     "output_type": "display_data"
    }
   ],
   "source": [
    "plt.figure(figsize=(12,8))\n",
    "sns.boxplot(x = df['final_status'], y = df['goal_usd'])"
   ]
  },
  {
   "cell_type": "code",
   "execution_count": 40,
   "metadata": {},
   "outputs": [
    {
     "data": {
      "text/plain": [
       "<AxesSubplot:xlabel='final_status', ylabel='goal_usd'>"
      ]
     },
     "execution_count": 40,
     "metadata": {},
     "output_type": "execute_result"
    },
    {
     "data": {
      "image/png": "[encoded data removed]",
      "text/plain": [
       "<Figure size 864x648 with 1 Axes>"
      ]
     },
     "metadata": {
      "needs_background": "light"
     },
     "output_type": "display_data"
    }
   ],
   "source": [
    "plt.figure(figsize=(12,9))\n",
    "sns.stripplot(x = 'final_status', y = 'goal_usd', data = df)"
   ]
  },
  {
   "cell_type": "code",
   "execution_count": 41,
   "metadata": {},
   "outputs": [],
   "source": [
    "df=df[df['goal_usd']<= 500000]"
   ]
  },
  {
   "cell_type": "markdown",
   "metadata": {},
   "source": [
    "* Dropping Outliers, so Machine learning work properly and not making easy decision for fail state"
   ]
  },
  {
   "cell_type": "code",
   "execution_count": 42,
   "metadata": {},
   "outputs": [
    {
     "data": {
      "text/plain": [
       "<AxesSubplot:xlabel='final_status', ylabel='Changed_Deadline'>"
      ]
     },
     "execution_count": 42,
     "metadata": {},
     "output_type": "execute_result"
    },
    {
     "data": {
      "image/png": "[encoded data removed]",
      "text/plain": [
       "<Figure size 1152x864 with 1 Axes>"
      ]
     },
     "metadata": {
      "needs_background": "light"
     },
     "output_type": "display_data"
    }
   ],
   "source": [
    "plt.figure(figsize=(16,12))\n",
    "sns.boxplot(x = df['final_status'], y = df['Changed_Deadline'])"
   ]
  },
  {
   "cell_type": "code",
   "execution_count": 43,
   "metadata": {},
   "outputs": [
    {
     "data": {
      "text/plain": [
       "<AxesSubplot:xlabel='final_status', ylabel='Changed_Deadline'>"
      ]
     },
     "execution_count": 43,
     "metadata": {},
     "output_type": "execute_result"
    },
    {
     "data": {
      "image/png": "[encoded data removed]",
      "text/plain": [
       "<Figure size 864x648 with 1 Axes>"
      ]
     },
     "metadata": {
      "needs_background": "light"
     },
     "output_type": "display_data"
    }
   ],
   "source": [
    "plt.figure(figsize=(12,9))\n",
    "sns.stripplot(x = 'final_status', y = 'Changed_Deadline', data = df)"
   ]
  },
  {
   "cell_type": "code",
   "execution_count": 44,
   "metadata": {},
   "outputs": [],
   "source": [
    "df=df[df['Changed_Deadline'] <= 50]"
   ]
  },
  {
   "cell_type": "markdown",
   "metadata": {},
   "source": [
    "* Dropping outliers because there's some project owners changing their project to fast. Maybe they just cancel it"
   ]
  },
  {
   "cell_type": "code",
   "execution_count": 45,
   "metadata": {},
   "outputs": [
    {
     "data": {
      "text/plain": [
       "(101532, 22)"
      ]
     },
     "execution_count": 45,
     "metadata": {},
     "output_type": "execute_result"
    }
   ],
   "source": [
    "df.shape"
   ]
  },
  {
   "cell_type": "code",
   "execution_count": 46,
   "metadata": {},
   "outputs": [
    {
     "data": {
      "text/plain": [
       "<AxesSubplot:xlabel='final_status', ylabel='Launched_Deadline'>"
      ]
     },
     "execution_count": 46,
     "metadata": {},
     "output_type": "execute_result"
    },
    {
     "data": {
      "image/png": "[encoded data removed]",
      "text/plain": [
       "<Figure size 864x576 with 1 Axes>"
      ]
     },
     "metadata": {
      "needs_background": "light"
     },
     "output_type": "display_data"
    }
   ],
   "source": [
    "plt.figure(figsize=(12,8))\n",
    "sns.boxplot(x = df['final_status'], y = df['Launched_Deadline'])"
   ]
  },
  {
   "cell_type": "code",
   "execution_count": 47,
   "metadata": {},
   "outputs": [
    {
     "data": {
      "text/plain": [
       "<AxesSubplot:xlabel='final_status', ylabel='Launched_Deadline'>"
      ]
     },
     "execution_count": 47,
     "metadata": {},
     "output_type": "execute_result"
    },
    {
     "data": {
      "image/png": "[encoded data removed]",
      "text/plain": [
       "<Figure size 864x648 with 1 Axes>"
      ]
     },
     "metadata": {
      "needs_background": "light"
     },
     "output_type": "display_data"
    }
   ],
   "source": [
    "plt.figure(figsize=(12,9))\n",
    "sns.stripplot(x = 'final_status', y = 'Launched_Deadline', data = df)"
   ]
  },
  {
   "cell_type": "code",
   "execution_count": 48,
   "metadata": {},
   "outputs": [
    {
     "data": {
      "text/plain": [
       "2014    36109\n",
       "2013    17631\n",
       "2015    17486\n",
       "2012    16833\n",
       "2011     9475\n",
       "2010     3461\n",
       "2009      537\n",
       "Name: year, dtype: int64"
      ]
     },
     "execution_count": 48,
     "metadata": {},
     "output_type": "execute_result"
    }
   ],
   "source": [
    "df['year'].value_counts()"
   ]
  },
  {
   "cell_type": "code",
   "execution_count": 49,
   "metadata": {},
   "outputs": [],
   "source": [
    "df['year']=df['year'].astype(int)\n",
    "\n",
    "df=df[df['year']>2011]\n",
    "\n",
    "df=df[df['Launched_Deadline']<=60]"
   ]
  },
  {
   "cell_type": "markdown",
   "metadata": {},
   "source": [
    "* Since 2011 maximum duratin of deadline is 60 days\n",
    "* [Source](https://www.kickstarter.com/blog/shortening-the-maximum-project-length)"
   ]
  },
  {
   "cell_type": "code",
   "execution_count": 50,
   "metadata": {},
   "outputs": [
    {
     "data": {
      "text/plain": [
       "<AxesSubplot:xlabel='final_status', ylabel='Create_Launched'>"
      ]
     },
     "execution_count": 50,
     "metadata": {},
     "output_type": "execute_result"
    },
    {
     "data": {
      "image/png": "[encoded data removed]",
      "text/plain": [
       "<Figure size 864x576 with 1 Axes>"
      ]
     },
     "metadata": {
      "needs_background": "light"
     },
     "output_type": "display_data"
    }
   ],
   "source": [
    "plt.figure(figsize=(12,8))\n",
    "sns.boxplot(x = df['final_status'], y = df['Create_Launched'])"
   ]
  },
  {
   "cell_type": "code",
   "execution_count": 51,
   "metadata": {},
   "outputs": [
    {
     "data": {
      "text/plain": [
       "<AxesSubplot:xlabel='final_status', ylabel='Create_Launched'>"
      ]
     },
     "execution_count": 51,
     "metadata": {},
     "output_type": "execute_result"
    },
    {
     "data": {
      "image/png": "[encoded data removed]",
      "text/plain": [
       "<Figure size 864x648 with 1 Axes>"
      ]
     },
     "metadata": {
      "needs_background": "light"
     },
     "output_type": "display_data"
    }
   ],
   "source": [
    "plt.figure(figsize=(12,9))\n",
    "sns.stripplot(x = 'final_status', y = 'Create_Launched', data = df)"
   ]
  },
  {
   "cell_type": "code",
   "execution_count": 52,
   "metadata": {},
   "outputs": [],
   "source": [
    "df=df[df['Create_Launched']<= 750]"
   ]
  },
  {
   "cell_type": "markdown",
   "metadata": {},
   "source": [
    "* Take out a few outliers, taking the initial conditions when each status starts to make a difference"
   ]
  },
  {
   "cell_type": "code",
   "execution_count": 53,
   "metadata": {},
   "outputs": [
    {
     "data": {
      "text/plain": [
       "<AxesSubplot:xlabel='final_status', ylabel='Launched_Changed'>"
      ]
     },
     "execution_count": 53,
     "metadata": {},
     "output_type": "execute_result"
    },
    {
     "data": {
      "image/png": "[encoded data removed]",
      "text/plain": [
       "<Figure size 864x576 with 1 Axes>"
      ]
     },
     "metadata": {
      "needs_background": "light"
     },
     "output_type": "display_data"
    }
   ],
   "source": [
    "plt.figure(figsize=(12,8))\n",
    "sns.boxplot(x = df['final_status'], y = df['Launched_Changed'])"
   ]
  },
  {
   "cell_type": "code",
   "execution_count": 54,
   "metadata": {},
   "outputs": [
    {
     "data": {
      "text/plain": [
       "<AxesSubplot:xlabel='final_status', ylabel='Launched_Changed'>"
      ]
     },
     "execution_count": 54,
     "metadata": {},
     "output_type": "execute_result"
    },
    {
     "data": {
      "image/png": "[encoded data removed]",
      "text/plain": [
       "<Figure size 864x648 with 1 Axes>"
      ]
     },
     "metadata": {
      "needs_background": "light"
     },
     "output_type": "display_data"
    }
   ],
   "source": [
    "plt.figure(figsize=(12,9))\n",
    "sns.stripplot(x = 'final_status', y = 'Launched_Changed', data = df)"
   ]
  },
  {
   "cell_type": "code",
   "execution_count": 55,
   "metadata": {},
   "outputs": [
    {
     "data": {
      "text/plain": [
       "<AxesSubplot:xlabel='final_status', ylabel='backers_count'>"
      ]
     },
     "execution_count": 55,
     "metadata": {},
     "output_type": "execute_result"
    },
    {
     "data": {
      "image/png": "[encoded data removed]",
      "text/plain": [
       "<Figure size 864x576 with 1 Axes>"
      ]
     },
     "metadata": {
      "needs_background": "light"
     },
     "output_type": "display_data"
    }
   ],
   "source": [
    "plt.figure(figsize=(12,8))\n",
    "sns.boxplot(x = df['final_status'], y = df['backers_count'])"
   ]
  },
  {
   "cell_type": "code",
   "execution_count": 56,
   "metadata": {},
   "outputs": [
    {
     "data": {
      "text/plain": [
       "<AxesSubplot:xlabel='final_status', ylabel='backers_count'>"
      ]
     },
     "execution_count": 56,
     "metadata": {},
     "output_type": "execute_result"
    },
    {
     "data": {
      "image/png": "[encoded data removed]",
      "text/plain": [
       "<Figure size 864x648 with 1 Axes>"
      ]
     },
     "metadata": {
      "needs_background": "light"
     },
     "output_type": "display_data"
    }
   ],
   "source": [
    "plt.figure(figsize=(12,9))\n",
    "sns.stripplot(x = 'final_status', y = 'backers_count', data = df)"
   ]
  },
  {
   "cell_type": "code",
   "execution_count": 57,
   "metadata": {},
   "outputs": [],
   "source": [
    "df=df[df['backers_count']<=5000]"
   ]
  },
  {
   "cell_type": "markdown",
   "metadata": {},
   "source": [
    "* Take out a few outliers, taking the initial conditions when each status starts to make a difference"
   ]
  },
  {
   "cell_type": "code",
   "execution_count": 58,
   "metadata": {},
   "outputs": [
    {
     "data": {
      "text/plain": [
       "(87542, 22)"
      ]
     },
     "execution_count": 58,
     "metadata": {},
     "output_type": "execute_result"
    }
   ],
   "source": [
    "df.shape"
   ]
  },
  {
   "cell_type": "code",
   "execution_count": 59,
   "metadata": {},
   "outputs": [
    {
     "data": {
      "text/html": [
       "<div>\n",
       "<style scoped>\n",
       "    .dataframe tbody tr th:only-of-type {\n",
       "        vertical-align: middle;\n",
       "    }\n",
       "\n",
       "    .dataframe tbody tr th {\n",
       "        vertical-align: top;\n",
       "    }\n",
       "\n",
       "    .dataframe thead th {\n",
       "        text-align: right;\n",
       "    }\n",
       "</style>\n",
       "<table border=\"1\" class=\"dataframe\">\n",
       "  <thead>\n",
       "    <tr style=\"text-align: right;\">\n",
       "      <th></th>\n",
       "      <th>goal</th>\n",
       "      <th>backers_count</th>\n",
       "      <th>final_status</th>\n",
       "      <th>Create_Launched</th>\n",
       "      <th>Launched_Changed</th>\n",
       "      <th>Launched_Deadline</th>\n",
       "      <th>Changed_Deadline</th>\n",
       "      <th>year</th>\n",
       "      <th>goal_usd</th>\n",
       "    </tr>\n",
       "  </thead>\n",
       "  <tbody>\n",
       "    <tr>\n",
       "      <th>count</th>\n",
       "      <td>8.754200e+04</td>\n",
       "      <td>87542.000000</td>\n",
       "      <td>87542.000000</td>\n",
       "      <td>87542.000000</td>\n",
       "      <td>87542.000000</td>\n",
       "      <td>87542.000000</td>\n",
       "      <td>87542.000000</td>\n",
       "      <td>87542.000000</td>\n",
       "      <td>87542.000000</td>\n",
       "    </tr>\n",
       "    <tr>\n",
       "      <th>mean</th>\n",
       "      <td>1.780987e+04</td>\n",
       "      <td>98.513114</td>\n",
       "      <td>0.307372</td>\n",
       "      <td>38.783898</td>\n",
       "      <td>31.606566</td>\n",
       "      <td>32.619645</td>\n",
       "      <td>1.014747</td>\n",
       "      <td>2013.614596</td>\n",
       "      <td>17046.642866</td>\n",
       "    </tr>\n",
       "    <tr>\n",
       "      <th>std</th>\n",
       "      <td>5.162005e+04</td>\n",
       "      <td>317.190014</td>\n",
       "      <td>0.461408</td>\n",
       "      <td>77.968074</td>\n",
       "      <td>11.737889</td>\n",
       "      <td>10.941118</td>\n",
       "      <td>4.982938</td>\n",
       "      <td>1.008355</td>\n",
       "      <td>41193.564532</td>\n",
       "    </tr>\n",
       "    <tr>\n",
       "      <th>min</th>\n",
       "      <td>1.000000e+00</td>\n",
       "      <td>0.000000</td>\n",
       "      <td>0.000000</td>\n",
       "      <td>0.000000</td>\n",
       "      <td>0.000000</td>\n",
       "      <td>1.000000</td>\n",
       "      <td>0.000000</td>\n",
       "      <td>2012.000000</td>\n",
       "      <td>0.729927</td>\n",
       "    </tr>\n",
       "    <tr>\n",
       "      <th>25%</th>\n",
       "      <td>2.000000e+03</td>\n",
       "      <td>2.000000</td>\n",
       "      <td>0.000000</td>\n",
       "      <td>4.000000</td>\n",
       "      <td>30.000000</td>\n",
       "      <td>30.000000</td>\n",
       "      <td>0.000000</td>\n",
       "      <td>2013.000000</td>\n",
       "      <td>2000.000000</td>\n",
       "    </tr>\n",
       "    <tr>\n",
       "      <th>50%</th>\n",
       "      <td>5.000000e+03</td>\n",
       "      <td>15.000000</td>\n",
       "      <td>0.000000</td>\n",
       "      <td>12.000000</td>\n",
       "      <td>30.000000</td>\n",
       "      <td>30.000000</td>\n",
       "      <td>0.000000</td>\n",
       "      <td>2014.000000</td>\n",
       "      <td>5000.000000</td>\n",
       "    </tr>\n",
       "    <tr>\n",
       "      <th>75%</th>\n",
       "      <td>1.500000e+04</td>\n",
       "      <td>66.000000</td>\n",
       "      <td>1.000000</td>\n",
       "      <td>36.000000</td>\n",
       "      <td>33.000000</td>\n",
       "      <td>34.000000</td>\n",
       "      <td>0.000000</td>\n",
       "      <td>2014.000000</td>\n",
       "      <td>15000.000000</td>\n",
       "    </tr>\n",
       "    <tr>\n",
       "      <th>max</th>\n",
       "      <td>3.000000e+06</td>\n",
       "      <td>4974.000000</td>\n",
       "      <td>1.000000</td>\n",
       "      <td>747.000000</td>\n",
       "      <td>61.000000</td>\n",
       "      <td>60.000000</td>\n",
       "      <td>50.000000</td>\n",
       "      <td>2015.000000</td>\n",
       "      <td>500000.000000</td>\n",
       "    </tr>\n",
       "  </tbody>\n",
       "</table>\n",
       "</div>"
      ],
      "text/plain": [
       "               goal  backers_count  final_status  Create_Launched  \\\n",
       "count  8.754200e+04   87542.000000  87542.000000     87542.000000   \n",
       "mean   1.780987e+04      98.513114      0.307372        38.783898   \n",
       "std    5.162005e+04     317.190014      0.461408        77.968074   \n",
       "min    1.000000e+00       0.000000      0.000000         0.000000   \n",
       "25%    2.000000e+03       2.000000      0.000000         4.000000   \n",
       "50%    5.000000e+03      15.000000      0.000000        12.000000   \n",
       "75%    1.500000e+04      66.000000      1.000000        36.000000   \n",
       "max    3.000000e+06    4974.000000      1.000000       747.000000   \n",
       "\n",
       "       Launched_Changed  Launched_Deadline  Changed_Deadline          year  \\\n",
       "count      87542.000000       87542.000000      87542.000000  87542.000000   \n",
       "mean          31.606566          32.619645          1.014747   2013.614596   \n",
       "std           11.737889          10.941118          4.982938      1.008355   \n",
       "min            0.000000           1.000000          0.000000   2012.000000   \n",
       "25%           30.000000          30.000000          0.000000   2013.000000   \n",
       "50%           30.000000          30.000000          0.000000   2014.000000   \n",
       "75%           33.000000          34.000000          0.000000   2014.000000   \n",
       "max           61.000000          60.000000         50.000000   2015.000000   \n",
       "\n",
       "            goal_usd  \n",
       "count   87542.000000  \n",
       "mean    17046.642866  \n",
       "std     41193.564532  \n",
       "min         0.729927  \n",
       "25%      2000.000000  \n",
       "50%      5000.000000  \n",
       "75%     15000.000000  \n",
       "max    500000.000000  "
      ]
     },
     "execution_count": 59,
     "metadata": {},
     "output_type": "execute_result"
    }
   ],
   "source": [
    "df.describe()"
   ]
  },
  {
   "cell_type": "code",
   "execution_count": 60,
   "metadata": {},
   "outputs": [
    {
     "data": {
      "text/html": [
       "<div>\n",
       "<style scoped>\n",
       "    .dataframe tbody tr th:only-of-type {\n",
       "        vertical-align: middle;\n",
       "    }\n",
       "\n",
       "    .dataframe tbody tr th {\n",
       "        vertical-align: top;\n",
       "    }\n",
       "\n",
       "    .dataframe thead th {\n",
       "        text-align: right;\n",
       "    }\n",
       "</style>\n",
       "<table border=\"1\" class=\"dataframe\">\n",
       "  <thead>\n",
       "    <tr style=\"text-align: right;\">\n",
       "      <th></th>\n",
       "      <th>name</th>\n",
       "      <th>category</th>\n",
       "      <th>main_category</th>\n",
       "      <th>pledged</th>\n",
       "      <th>usd pledged</th>\n",
       "      <th>desc</th>\n",
       "      <th>country</th>\n",
       "      <th>currency</th>\n",
       "      <th>launched_at</th>\n",
       "    </tr>\n",
       "  </thead>\n",
       "  <tbody>\n",
       "    <tr>\n",
       "      <th>count</th>\n",
       "      <td>87534</td>\n",
       "      <td>87542</td>\n",
       "      <td>87542</td>\n",
       "      <td>87542</td>\n",
       "      <td>87305</td>\n",
       "      <td>87510</td>\n",
       "      <td>87542</td>\n",
       "      <td>87542</td>\n",
       "      <td>87542</td>\n",
       "    </tr>\n",
       "    <tr>\n",
       "      <th>unique</th>\n",
       "      <td>85378</td>\n",
       "      <td>162</td>\n",
       "      <td>18</td>\n",
       "      <td>23785</td>\n",
       "      <td>34168</td>\n",
       "      <td>85030</td>\n",
       "      <td>11</td>\n",
       "      <td>9</td>\n",
       "      <td>1240</td>\n",
       "    </tr>\n",
       "    <tr>\n",
       "      <th>top</th>\n",
       "      <td>New EP/Music Development</td>\n",
       "      <td>Video Games</td>\n",
       "      <td>Film &amp; Video</td>\n",
       "      <td>0</td>\n",
       "      <td>0</td>\n",
       "      <td>Breakout Artist Management has offered to work...</td>\n",
       "      <td>US</td>\n",
       "      <td>USD</td>\n",
       "      <td>2014-07-09</td>\n",
       "    </tr>\n",
       "    <tr>\n",
       "      <th>freq</th>\n",
       "      <td>287</td>\n",
       "      <td>4485</td>\n",
       "      <td>14775</td>\n",
       "      <td>10820</td>\n",
       "      <td>10780</td>\n",
       "      <td>267</td>\n",
       "      <td>71760</td>\n",
       "      <td>71760</td>\n",
       "      <td>512</td>\n",
       "    </tr>\n",
       "  </tbody>\n",
       "</table>\n",
       "</div>"
      ],
      "text/plain": [
       "                            name    category  main_category  pledged   \\\n",
       "count                      87534        87542          87542    87542   \n",
       "unique                     85378          162             18    23785   \n",
       "top     New EP/Music Development  Video Games   Film & Video        0   \n",
       "freq                         287         4485          14775    10820   \n",
       "\n",
       "       usd pledged                                                desc  \\\n",
       "count         87305                                              87510   \n",
       "unique        34168                                              85030   \n",
       "top               0  Breakout Artist Management has offered to work...   \n",
       "freq          10780                                                267   \n",
       "\n",
       "       country currency launched_at  \n",
       "count    87542    87542       87542  \n",
       "unique      11        9        1240  \n",
       "top         US      USD  2014-07-09  \n",
       "freq     71760    71760         512  "
      ]
     },
     "execution_count": 60,
     "metadata": {},
     "output_type": "execute_result"
    }
   ],
   "source": [
    "df.describe(include='O')"
   ]
  },
  {
   "cell_type": "code",
   "execution_count": 61,
   "metadata": {},
   "outputs": [],
   "source": [
    "df['Month']=df['launched_at'].str[5:7]\n",
    "\n",
    "df['Month']=df['Month'].astype(int)"
   ]
  },
  {
   "cell_type": "code",
   "execution_count": 62,
   "metadata": {},
   "outputs": [],
   "source": [
    "df['name']=df['name'].astype('str')\n",
    "df['desc']=df['desc'].astype('str')"
   ]
  },
  {
   "cell_type": "code",
   "execution_count": 67,
   "metadata": {},
   "outputs": [],
   "source": [
    "df_describe =[]\n",
    "\n",
    "for i in df.columns:\n",
    "    df_describe.append([\n",
    "        i,\n",
    "        df[i].dtypes,\n",
    "        df[i].isna().sum(),\n",
    "        round((((df[i].isna().sum())/(len(df)))*100),2),\n",
    "        df[i].nunique(),\n",
    "        df[i].unique()\n",
    "    ])"
   ]
  },
  {
   "cell_type": "code",
   "execution_count": 68,
   "metadata": {},
   "outputs": [
    {
     "data": {
      "text/html": [
       "<div>\n",
       "<style scoped>\n",
       "    .dataframe tbody tr th:only-of-type {\n",
       "        vertical-align: middle;\n",
       "    }\n",
       "\n",
       "    .dataframe tbody tr th {\n",
       "        vertical-align: top;\n",
       "    }\n",
       "\n",
       "    .dataframe thead th {\n",
       "        text-align: right;\n",
       "    }\n",
       "</style>\n",
       "<table border=\"1\" class=\"dataframe\">\n",
       "  <thead>\n",
       "    <tr style=\"text-align: right;\">\n",
       "      <th></th>\n",
       "      <th>column</th>\n",
       "      <th>type</th>\n",
       "      <th>nan</th>\n",
       "      <th>nan%</th>\n",
       "      <th>nunique</th>\n",
       "      <th>unique</th>\n",
       "    </tr>\n",
       "  </thead>\n",
       "  <tbody>\n",
       "    <tr>\n",
       "      <th>0</th>\n",
       "      <td>name</td>\n",
       "      <td>object</td>\n",
       "      <td>0</td>\n",
       "      <td>0.00</td>\n",
       "      <td>85379</td>\n",
       "      <td>[Where is Hank?, Of Jesus and Madmen, The Bear...</td>\n",
       "    </tr>\n",
       "    <tr>\n",
       "      <th>1</th>\n",
       "      <td>category</td>\n",
       "      <td>object</td>\n",
       "      <td>0</td>\n",
       "      <td>0.00</td>\n",
       "      <td>162</td>\n",
       "      <td>[Narrative Film, Nonfiction, Comic Books, Art ...</td>\n",
       "    </tr>\n",
       "    <tr>\n",
       "      <th>2</th>\n",
       "      <td>main_category</td>\n",
       "      <td>object</td>\n",
       "      <td>0</td>\n",
       "      <td>0.00</td>\n",
       "      <td>18</td>\n",
       "      <td>[Film &amp; Video, Publishing, Comics, Food, Art, ...</td>\n",
       "    </tr>\n",
       "    <tr>\n",
       "      <th>3</th>\n",
       "      <td>pledged</td>\n",
       "      <td>object</td>\n",
       "      <td>0</td>\n",
       "      <td>0.00</td>\n",
       "      <td>23785</td>\n",
       "      <td>[220, 0, 395, 789, 48, 48905, 21, 1395, 8641.3...</td>\n",
       "    </tr>\n",
       "    <tr>\n",
       "      <th>4</th>\n",
       "      <td>usd pledged</td>\n",
       "      <td>object</td>\n",
       "      <td>237</td>\n",
       "      <td>0.27</td>\n",
       "      <td>34168</td>\n",
       "      <td>[220, 0, 395, 789, 6.18000816, 43203.2511447, ...</td>\n",
       "    </tr>\n",
       "    <tr>\n",
       "      <th>5</th>\n",
       "      <td>desc</td>\n",
       "      <td>object</td>\n",
       "      <td>0</td>\n",
       "      <td>0.00</td>\n",
       "      <td>85031</td>\n",
       "      <td>[Abandoned Property. Sounds of struggle, muffl...</td>\n",
       "    </tr>\n",
       "    <tr>\n",
       "      <th>6</th>\n",
       "      <td>goal</td>\n",
       "      <td>float64</td>\n",
       "      <td>0</td>\n",
       "      <td>0.00</td>\n",
       "      <td>3000</td>\n",
       "      <td>[45000.0, 2500.0, 1500.0, 3000.0, 500.0, 17757...</td>\n",
       "    </tr>\n",
       "    <tr>\n",
       "      <th>7</th>\n",
       "      <td>disable_communication</td>\n",
       "      <td>bool</td>\n",
       "      <td>0</td>\n",
       "      <td>0.00</td>\n",
       "      <td>2</td>\n",
       "      <td>[False, True]</td>\n",
       "    </tr>\n",
       "    <tr>\n",
       "      <th>8</th>\n",
       "      <td>country</td>\n",
       "      <td>object</td>\n",
       "      <td>0</td>\n",
       "      <td>0.00</td>\n",
       "      <td>11</td>\n",
       "      <td>[US, CA, NO, GB, AU, NZ, SE, NL, DK, IE, DE]</td>\n",
       "    </tr>\n",
       "    <tr>\n",
       "      <th>9</th>\n",
       "      <td>currency</td>\n",
       "      <td>object</td>\n",
       "      <td>0</td>\n",
       "      <td>0.00</td>\n",
       "      <td>9</td>\n",
       "      <td>[USD, CAD, NOK, GBP, AUD, NZD, SEK, EUR, DKK]</td>\n",
       "    </tr>\n",
       "    <tr>\n",
       "      <th>10</th>\n",
       "      <td>deadline</td>\n",
       "      <td>datetime64[ns]</td>\n",
       "      <td>0</td>\n",
       "      <td>0.00</td>\n",
       "      <td>1233</td>\n",
       "      <td>[2013-02-25T00:00:00.000000000, 2013-10-09T00:...</td>\n",
       "    </tr>\n",
       "    <tr>\n",
       "      <th>11</th>\n",
       "      <td>state_changed_at</td>\n",
       "      <td>datetime64[ns]</td>\n",
       "      <td>0</td>\n",
       "      <td>0.00</td>\n",
       "      <td>1233</td>\n",
       "      <td>[2013-02-25T00:00:00.000000000, 2013-10-09T00:...</td>\n",
       "    </tr>\n",
       "    <tr>\n",
       "      <th>12</th>\n",
       "      <td>created_at</td>\n",
       "      <td>datetime64[ns]</td>\n",
       "      <td>0</td>\n",
       "      <td>0.00</td>\n",
       "      <td>1455</td>\n",
       "      <td>[2013-01-08T00:00:00.000000000, 2013-09-02T00:...</td>\n",
       "    </tr>\n",
       "    <tr>\n",
       "      <th>13</th>\n",
       "      <td>launched_at</td>\n",
       "      <td>object</td>\n",
       "      <td>0</td>\n",
       "      <td>0.00</td>\n",
       "      <td>1240</td>\n",
       "      <td>[2013-01-11, 2013-09-09, 2014-10-09, 2015-04-1...</td>\n",
       "    </tr>\n",
       "    <tr>\n",
       "      <th>14</th>\n",
       "      <td>backers_count</td>\n",
       "      <td>int64</td>\n",
       "      <td>0</td>\n",
       "      <td>0.00</td>\n",
       "      <td>2111</td>\n",
       "      <td>[3, 0, 16, 20, 571, 1, 30, 157, 277, 181, 855,...</td>\n",
       "    </tr>\n",
       "    <tr>\n",
       "      <th>15</th>\n",
       "      <td>final_status</td>\n",
       "      <td>int64</td>\n",
       "      <td>0</td>\n",
       "      <td>0.00</td>\n",
       "      <td>2</td>\n",
       "      <td>[0, 1]</td>\n",
       "    </tr>\n",
       "    <tr>\n",
       "      <th>16</th>\n",
       "      <td>Create_Launched</td>\n",
       "      <td>int32</td>\n",
       "      <td>0</td>\n",
       "      <td>0.00</td>\n",
       "      <td>720</td>\n",
       "      <td>[3, 7, 8, 2, 93, 0, 77, 109, 23, 13, 86, 110, ...</td>\n",
       "    </tr>\n",
       "    <tr>\n",
       "      <th>17</th>\n",
       "      <td>Launched_Changed</td>\n",
       "      <td>int32</td>\n",
       "      <td>0</td>\n",
       "      <td>0.00</td>\n",
       "      <td>62</td>\n",
       "      <td>[45, 30, 39, 48, 29, 25, 34, 22, 46, 40, 60, 3...</td>\n",
       "    </tr>\n",
       "    <tr>\n",
       "      <th>18</th>\n",
       "      <td>Launched_Deadline</td>\n",
       "      <td>int32</td>\n",
       "      <td>0</td>\n",
       "      <td>0.00</td>\n",
       "      <td>60</td>\n",
       "      <td>[45, 30, 39, 48, 29, 25, 34, 22, 46, 40, 60, 3...</td>\n",
       "    </tr>\n",
       "    <tr>\n",
       "      <th>19</th>\n",
       "      <td>Changed_Deadline</td>\n",
       "      <td>int32</td>\n",
       "      <td>0</td>\n",
       "      <td>0.00</td>\n",
       "      <td>51</td>\n",
       "      <td>[0, 1, 9, 5, 30, 16, 2, 4, 32, 8, 27, 35, 29, ...</td>\n",
       "    </tr>\n",
       "    <tr>\n",
       "      <th>20</th>\n",
       "      <td>year</td>\n",
       "      <td>int32</td>\n",
       "      <td>0</td>\n",
       "      <td>0.00</td>\n",
       "      <td>4</td>\n",
       "      <td>[2013, 2014, 2015, 2012]</td>\n",
       "    </tr>\n",
       "    <tr>\n",
       "      <th>21</th>\n",
       "      <td>goal_usd</td>\n",
       "      <td>float64</td>\n",
       "      <td>0</td>\n",
       "      <td>0.00</td>\n",
       "      <td>4221</td>\n",
       "      <td>[45000.0, 1923.076923076923, 1500.0, 3000.0, 5...</td>\n",
       "    </tr>\n",
       "    <tr>\n",
       "      <th>22</th>\n",
       "      <td>Month</td>\n",
       "      <td>int32</td>\n",
       "      <td>0</td>\n",
       "      <td>0.00</td>\n",
       "      <td>12</td>\n",
       "      <td>[1, 9, 10, 4, 11, 3, 2, 8, 7, 6, 5, 12]</td>\n",
       "    </tr>\n",
       "  </tbody>\n",
       "</table>\n",
       "</div>"
      ],
      "text/plain": [
       "                   column            type  nan  nan%  nunique  \\\n",
       "0                    name          object    0  0.00    85379   \n",
       "1               category           object    0  0.00      162   \n",
       "2          main_category           object    0  0.00       18   \n",
       "3                pledged           object    0  0.00    23785   \n",
       "4            usd pledged           object  237  0.27    34168   \n",
       "5                    desc          object    0  0.00    85031   \n",
       "6                    goal         float64    0  0.00     3000   \n",
       "7   disable_communication            bool    0  0.00        2   \n",
       "8                 country          object    0  0.00       11   \n",
       "9                currency          object    0  0.00        9   \n",
       "10               deadline  datetime64[ns]    0  0.00     1233   \n",
       "11       state_changed_at  datetime64[ns]    0  0.00     1233   \n",
       "12             created_at  datetime64[ns]    0  0.00     1455   \n",
       "13            launched_at          object    0  0.00     1240   \n",
       "14          backers_count           int64    0  0.00     2111   \n",
       "15           final_status           int64    0  0.00        2   \n",
       "16        Create_Launched           int32    0  0.00      720   \n",
       "17       Launched_Changed           int32    0  0.00       62   \n",
       "18      Launched_Deadline           int32    0  0.00       60   \n",
       "19       Changed_Deadline           int32    0  0.00       51   \n",
       "20                   year           int32    0  0.00        4   \n",
       "21               goal_usd         float64    0  0.00     4221   \n",
       "22                  Month           int32    0  0.00       12   \n",
       "\n",
       "                                               unique  \n",
       "0   [Where is Hank?, Of Jesus and Madmen, The Bear...  \n",
       "1   [Narrative Film, Nonfiction, Comic Books, Art ...  \n",
       "2   [Film & Video, Publishing, Comics, Food, Art, ...  \n",
       "3   [220, 0, 395, 789, 48, 48905, 21, 1395, 8641.3...  \n",
       "4   [220, 0, 395, 789, 6.18000816, 43203.2511447, ...  \n",
       "5   [Abandoned Property. Sounds of struggle, muffl...  \n",
       "6   [45000.0, 2500.0, 1500.0, 3000.0, 500.0, 17757...  \n",
       "7                                       [False, True]  \n",
       "8        [US, CA, NO, GB, AU, NZ, SE, NL, DK, IE, DE]  \n",
       "9       [USD, CAD, NOK, GBP, AUD, NZD, SEK, EUR, DKK]  \n",
       "10  [2013-02-25T00:00:00.000000000, 2013-10-09T00:...  \n",
       "11  [2013-02-25T00:00:00.000000000, 2013-10-09T00:...  \n",
       "12  [2013-01-08T00:00:00.000000000, 2013-09-02T00:...  \n",
       "13  [2013-01-11, 2013-09-09, 2014-10-09, 2015-04-1...  \n",
       "14  [3, 0, 16, 20, 571, 1, 30, 157, 277, 181, 855,...  \n",
       "15                                             [0, 1]  \n",
       "16  [3, 7, 8, 2, 93, 0, 77, 109, 23, 13, 86, 110, ...  \n",
       "17  [45, 30, 39, 48, 29, 25, 34, 22, 46, 40, 60, 3...  \n",
       "18  [45, 30, 39, 48, 29, 25, 34, 22, 46, 40, 60, 3...  \n",
       "19  [0, 1, 9, 5, 30, 16, 2, 4, 32, 8, 27, 35, 29, ...  \n",
       "20                           [2013, 2014, 2015, 2012]  \n",
       "21  [45000.0, 1923.076923076923, 1500.0, 3000.0, 5...  \n",
       "22            [1, 9, 10, 4, 11, 3, 2, 8, 7, 6, 5, 12]  "
      ]
     },
     "execution_count": 68,
     "metadata": {},
     "output_type": "execute_result"
    }
   ],
   "source": [
    "DESC = pd.DataFrame(df_describe, columns=['column','type','nan','nan%','nunique','unique'])\n",
    "DESC"
   ]
  },
  {
   "cell_type": "code",
   "execution_count": 66,
   "metadata": {},
   "outputs": [],
   "source": [
    "df.to_csv(\"Clean_KS.csv\", index=False)"
   ]
  }
 ],
 "metadata": {
  "kernelspec": {
   "display_name": "Python 3",
   "language": "python",
   "name": "python3"
  },
  "language_info": {
   "codemirror_mode": {
    "name": "ipython",
    "version": 3
   },
   "file_extension": ".py",
   "mimetype": "text/x-python",
   "name": "python",
   "nbconvert_exporter": "python",
   "pygments_lexer": "ipython3",
   "version": "3.7.6"
  }
 },
 "nbformat": 4,
 "nbformat_minor": 4
}
